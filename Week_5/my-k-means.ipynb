{
 "cells": [
  {
   "cell_type": "code",
   "execution_count": 2,
   "metadata": {
    "collapsed": true
   },
   "outputs": [
    {
     "data": {
      "text/plain": "    popularity  duration (ms)\n0           73         230666\n1           55         149610\n2           57         210826\n3           71         201933\n4           82         198853\n..         ...            ...\n95          45         154440\n96          12         154440\n97          98         154440\n98          48         177613\n99          87         199040\n\n[100 rows x 2 columns]",
      "text/html": "<div>\n<style scoped>\n    .dataframe tbody tr th:only-of-type {\n        vertical-align: middle;\n    }\n\n    .dataframe tbody tr th {\n        vertical-align: top;\n    }\n\n    .dataframe thead th {\n        text-align: right;\n    }\n</style>\n<table border=\"1\" class=\"dataframe\">\n  <thead>\n    <tr style=\"text-align: right;\">\n      <th></th>\n      <th>popularity</th>\n      <th>duration (ms)</th>\n    </tr>\n  </thead>\n  <tbody>\n    <tr>\n      <th>0</th>\n      <td>73</td>\n      <td>230666</td>\n    </tr>\n    <tr>\n      <th>1</th>\n      <td>55</td>\n      <td>149610</td>\n    </tr>\n    <tr>\n      <th>2</th>\n      <td>57</td>\n      <td>210826</td>\n    </tr>\n    <tr>\n      <th>3</th>\n      <td>71</td>\n      <td>201933</td>\n    </tr>\n    <tr>\n      <th>4</th>\n      <td>82</td>\n      <td>198853</td>\n    </tr>\n    <tr>\n      <th>...</th>\n      <td>...</td>\n      <td>...</td>\n    </tr>\n    <tr>\n      <th>95</th>\n      <td>45</td>\n      <td>154440</td>\n    </tr>\n    <tr>\n      <th>96</th>\n      <td>12</td>\n      <td>154440</td>\n    </tr>\n    <tr>\n      <th>97</th>\n      <td>98</td>\n      <td>154440</td>\n    </tr>\n    <tr>\n      <th>98</th>\n      <td>48</td>\n      <td>177613</td>\n    </tr>\n    <tr>\n      <th>99</th>\n      <td>87</td>\n      <td>199040</td>\n    </tr>\n  </tbody>\n</table>\n<p>100 rows × 2 columns</p>\n</div>"
     },
     "execution_count": 2,
     "metadata": {},
     "output_type": "execute_result"
    }
   ],
   "source": [
    "import pandas as ps\n",
    "import math\n",
    "from random import *\n",
    "import numpy as np\n",
    "import matplotlib.pyplot as plot\n",
    "\n",
    "music_df = ps.read_csv('cs654_homework2_dataset1_York.csv')\n",
    "\n",
    "music_df_numeric_only = music_df.loc[:,\"popularity\":\"duration (ms)\"]\n",
    "music_df_numeric_only"
   ]
  },
  {
   "cell_type": "code",
   "execution_count": 3,
   "outputs": [],
   "source": [
    "def normalize_dataset(data):\n",
    "    return (data - np.min(data)) / (np.max(data) - np.min(data))"
   ],
   "metadata": {
    "collapsed": false
   }
  },
  {
   "cell_type": "code",
   "execution_count": 4,
   "outputs": [
    {
     "name": "stderr",
     "output_type": "stream",
     "text": [
      "C:\\Users\\cy_su\\PycharmProjects\\CS654_Data_Mining\\venv\\lib\\site-packages\\numpy\\core\\fromnumeric.py:84: FutureWarning: In a future version, DataFrame.min(axis=None) will return a scalar min over the entire DataFrame. To retain the old behavior, use 'frame.min(axis=0)' or just 'frame.min()'\n",
      "  return reduction(axis=axis, out=out, **passkwargs)\n",
      "C:\\Users\\cy_su\\PycharmProjects\\CS654_Data_Mining\\venv\\lib\\site-packages\\numpy\\core\\fromnumeric.py:84: FutureWarning: In a future version, DataFrame.max(axis=None) will return a scalar max over the entire DataFrame. To retain the old behavior, use 'frame.max(axis=0)' or just 'frame.max()'\n",
      "  return reduction(axis=axis, out=out, **passkwargs)\n",
      "C:\\Users\\cy_su\\PycharmProjects\\CS654_Data_Mining\\venv\\lib\\site-packages\\numpy\\core\\fromnumeric.py:84: FutureWarning: In a future version, DataFrame.min(axis=None) will return a scalar min over the entire DataFrame. To retain the old behavior, use 'frame.min(axis=0)' or just 'frame.min()'\n",
      "  return reduction(axis=axis, out=out, **passkwargs)\n",
      "C:\\Users\\cy_su\\PycharmProjects\\CS654_Data_Mining\\venv\\lib\\site-packages\\numpy\\core\\fromnumeric.py:84: FutureWarning: In a future version, DataFrame.min(axis=None) will return a scalar min over the entire DataFrame. To retain the old behavior, use 'frame.min(axis=0)' or just 'frame.min()'\n",
      "  return reduction(axis=axis, out=out, **passkwargs)\n",
      "C:\\Users\\cy_su\\PycharmProjects\\CS654_Data_Mining\\venv\\lib\\site-packages\\numpy\\core\\fromnumeric.py:84: FutureWarning: In a future version, DataFrame.max(axis=None) will return a scalar max over the entire DataFrame. To retain the old behavior, use 'frame.max(axis=0)' or just 'frame.max()'\n",
      "  return reduction(axis=axis, out=out, **passkwargs)\n",
      "C:\\Users\\cy_su\\PycharmProjects\\CS654_Data_Mining\\venv\\lib\\site-packages\\numpy\\core\\fromnumeric.py:84: FutureWarning: In a future version, DataFrame.min(axis=None) will return a scalar min over the entire DataFrame. To retain the old behavior, use 'frame.min(axis=0)' or just 'frame.min()'\n",
      "  return reduction(axis=axis, out=out, **passkwargs)\n"
     ]
    }
   ],
   "source": [
    "normalized_music_df = normalize_dataset(music_df_numeric_only)\n",
    "normalized_music_df = normalize_dataset(normalized_music_df)\n",
    "normalized_music_df[\"popularity\"] = normalized_music_df[\"popularity\"]*100\n",
    "normalized_music_df[\"duration (ms)\"] = normalized_music_df[\"duration (ms)\"]*100\n",
    "normalized_music_df[\"popularity\"] = normalized_music_df[\"popularity\"].apply(np.ceil)\n",
    "normalized_music_df[\"duration (ms)\"] = normalized_music_df[\"duration (ms)\"].apply(np.ceil)\n",
    "normalized_music_df[\"popularity\"] = normalized_music_df[\"popularity\"].astype(int)\n",
    "normalized_music_df[\"duration (ms)\"] = normalized_music_df[\"duration (ms)\"].astype(int)\n",
    "normalized_music_df.to_csv(' cs654_homework3_dataset_York.csv')"
   ],
   "metadata": {
    "collapsed": false
   }
  },
  {
   "cell_type": "code",
   "execution_count": 114,
   "outputs": [],
   "source": [
    "def get_X(P):\n",
    "    r = []\n",
    "    for x in P:\n",
    "        r.append(x)\n",
    "    return r\n",
    "def get_Y(P):\n",
    "    r = []\n",
    "    for y in P:\n",
    "        r.append(y)\n",
    "    return r"
   ],
   "metadata": {
    "collapsed": false
   }
  },
  {
   "cell_type": "code",
   "execution_count": 115,
   "outputs": [
    {
     "data": {
      "text/plain": "<matplotlib.collections.PathCollection at 0x21fb03377f0>"
     },
     "execution_count": 115,
     "metadata": {},
     "output_type": "execute_result"
    },
    {
     "data": {
      "text/plain": "<Figure size 640x480 with 1 Axes>",
      "image/png": "[encoded data removed]"
     },
     "metadata": {},
     "output_type": "display_data"
    }
   ],
   "source": [
    "#They look like?\n",
    "%matplotlib inline\n",
    "plot.ylim([0,105])\n",
    "plot.xlim([0,105])\n",
    "X = get_X(normalized_music_df[\"popularity\"])\n",
    "Y = get_Y(normalized_music_df[\"duration (ms)\"])\n",
    "plot.scatter(X, Y)"
   ],
   "metadata": {
    "collapsed": false
   }
  },
  {
   "cell_type": "code",
   "execution_count": 116,
   "outputs": [
    {
     "name": "stdout",
     "output_type": "stream",
     "text": [
      "83\n",
      "76\n",
      "34\n"
     ]
    }
   ],
   "source": [
    "#Assume K = 3, and the two initial centroids are selected for illustration purpose.\n",
    "#Use random.randint() for random selections\n",
    "centroid_1 = randint(1,100)\n",
    "print(centroid_1)\n",
    "centroid_2 = randint(1,100)\n",
    "print(centroid_2)\n",
    "centroid_3 = randint(1,100)\n",
    "print(centroid_3)"
   ],
   "metadata": {
    "collapsed": false
   }
  },
  {
   "cell_type": "code",
   "execution_count": 117,
   "outputs": [
    {
     "data": {
      "text/plain": "<matplotlib.collections.PathCollection at 0x21fb0e80fd0>"
     },
     "execution_count": 117,
     "metadata": {},
     "output_type": "execute_result"
    },
    {
     "data": {
      "text/plain": "<Figure size 640x480 with 1 Axes>",
      "image/png": "[encoded data removed]"
     },
     "metadata": {},
     "output_type": "display_data"
    }
   ],
   "source": [
    "X = get_X(normalized_music_df[\"popularity\"])\n",
    "Y = get_Y(normalized_music_df[\"duration (ms)\"])\n",
    "plot.ylim([0,105])\n",
    "plot.xlim([0,105])\n",
    "plot.scatter(X, Y)\n",
    "X = get_X([centroid_1])\n",
    "Y = get_Y([centroid_1])\n",
    "plot.ylim([0,105])\n",
    "plot.xlim([0,105])\n",
    "plot.scatter(X, Y, color=\"green\", marker=\"^\")\n",
    "X = get_X([centroid_2])\n",
    "Y = get_Y([centroid_2])\n",
    "plot.ylim([0,105])\n",
    "plot.xlim([0,105])\n",
    "plot.scatter(X, Y, color=\"red\", marker=\"^\")\n",
    "X = get_X([centroid_3])\n",
    "Y = get_Y([centroid_3])\n",
    "plot.ylim([0,105])\n",
    "plot.xlim([0,105])\n",
    "plot.scatter(X, Y, color=\"yellow\", marker=\"^\")"
   ],
   "metadata": {
    "collapsed": false
   }
  },
  {
   "cell_type": "code",
   "execution_count": 118,
   "outputs": [],
   "source": [
    "#Manhattan distance is used.\n",
    "def distance(p, q):\n",
    "    return int(math.fabs(p - q) + math.fabs(p-q))"
   ],
   "metadata": {
    "collapsed": false
   }
  },
  {
   "cell_type": "code",
   "execution_count": 119,
   "outputs": [],
   "source": [
    "#These will be used to store points in each cluster (index only)\n",
    "cluster_1 = []\n",
    "cluster_2 = []\n",
    "cluster_3 = []"
   ],
   "metadata": {
    "collapsed": false
   }
  },
  {
   "cell_type": "code",
   "execution_count": 120,
   "outputs": [],
   "source": [
    "#assign points to each cluster by the distance; clustering\n",
    "for i in range(len(normalized_music_df[\"popularity\"])):\n",
    "    if distance(normalized_music_df[\"popularity\"][i], centroid_1) < distance(normalized_music_df[\"popularity\"][i], centroid_2) and distance(normalized_music_df[\"popularity\"][i], centroid_1) < distance(normalized_music_df[\"popularity\"][i], centroid_3):\n",
    "        cluster_1.append(i)\n",
    "    elif distance(normalized_music_df[\"popularity\"][i], centroid_2) < distance(get_X(normalized_music_df[\"popularity\"])[i], centroid_3):\n",
    "        cluster_2.append(i)\n",
    "    else:\n",
    "        cluster_3.append(i)"
   ],
   "metadata": {
    "collapsed": false
   }
  },
  {
   "cell_type": "code",
   "execution_count": 121,
   "outputs": [
    {
     "data": {
      "text/plain": "[4, 7, 26, 38, 45, 46, 47, 48, 90, 91, 93, 97, 99]"
     },
     "execution_count": 121,
     "metadata": {},
     "output_type": "execute_result"
    }
   ],
   "source": [
    "cluster_1"
   ],
   "metadata": {
    "collapsed": false
   }
  },
  {
   "cell_type": "code",
   "execution_count": 122,
   "outputs": [
    {
     "data": {
      "text/plain": "[0,\n 1,\n 2,\n 3,\n 5,\n 6,\n 8,\n 9,\n 10,\n 11,\n 13,\n 14,\n 15,\n 16,\n 17,\n 18,\n 19,\n 20,\n 21,\n 22,\n 24,\n 34,\n 35,\n 36,\n 43,\n 51,\n 52,\n 53,\n 55,\n 58,\n 59,\n 60,\n 61,\n 62,\n 63,\n 64,\n 65,\n 66,\n 67,\n 68,\n 70,\n 71,\n 72,\n 73,\n 74,\n 75,\n 76,\n 78,\n 79,\n 81,\n 82,\n 83,\n 84,\n 85,\n 86,\n 88,\n 89]"
     },
     "execution_count": 122,
     "metadata": {},
     "output_type": "execute_result"
    }
   ],
   "source": [
    "cluster_2"
   ],
   "metadata": {
    "collapsed": false
   }
  },
  {
   "cell_type": "code",
   "execution_count": 123,
   "outputs": [
    {
     "data": {
      "text/plain": "[12,\n 23,\n 25,\n 27,\n 28,\n 29,\n 30,\n 31,\n 32,\n 33,\n 37,\n 39,\n 40,\n 41,\n 42,\n 44,\n 49,\n 50,\n 54,\n 56,\n 57,\n 69,\n 77,\n 80,\n 87,\n 92,\n 94,\n 95,\n 96,\n 98]"
     },
     "execution_count": 123,
     "metadata": {},
     "output_type": "execute_result"
    }
   ],
   "source": [
    "cluster_3"
   ],
   "metadata": {
    "collapsed": false
   }
  },
  {
   "cell_type": "code",
   "execution_count": 124,
   "outputs": [
    {
     "data": {
      "text/plain": "<matplotlib.collections.PathCollection at 0x21fb16fdf30>"
     },
     "execution_count": 124,
     "metadata": {},
     "output_type": "execute_result"
    },
    {
     "data": {
      "text/plain": "<Figure size 640x480 with 1 Axes>",
      "image/png": "[encoded data removed]"
     },
     "metadata": {},
     "output_type": "display_data"
    }
   ],
   "source": [
    "#visualize clusters\n",
    "cluster_point_x = []\n",
    "cluster_point_y = []\n",
    "for x in cluster_1:\n",
    "    cluster_point_x.append(normalized_music_df[\"popularity\"][x])\n",
    "    cluster_point_y.append(normalized_music_df[\"duration (ms)\"][x])\n",
    "X = get_X(cluster_point_x)\n",
    "Y = get_Y(cluster_point_y)\n",
    "plot.ylim([0,105])\n",
    "plot.xlim([0,105])\n",
    "plot.scatter(X, Y, color=\"green\")\n",
    "\n",
    "cluster_point_x = []\n",
    "cluster_point_y = []\n",
    "for x in cluster_2:\n",
    "    cluster_point_x.append(normalized_music_df[\"popularity\"][x])\n",
    "    cluster_point_y.append(normalized_music_df[\"duration (ms)\"][x])\n",
    "X = get_X(cluster_point_x)\n",
    "Y = get_Y(cluster_point_y)\n",
    "plot.ylim([0,105])\n",
    "plot.xlim([0,105])\n",
    "plot.scatter(X, Y, color=\"red\")\n",
    "\n",
    "cluster_point_x = []\n",
    "cluster_point_y = []\n",
    "for x in cluster_3:\n",
    "    cluster_point_x.append(normalized_music_df[\"popularity\"][x])\n",
    "    cluster_point_y.append(normalized_music_df[\"duration (ms)\"][x])\n",
    "X = get_X(cluster_point_x)\n",
    "Y = get_Y(cluster_point_y)\n",
    "plot.ylim([0,105])\n",
    "plot.xlim([0,105])\n",
    "plot.scatter(X, Y, color=\"yellow\")"
   ],
   "metadata": {
    "collapsed": false
   }
  },
  {
   "cell_type": "code",
   "execution_count": 125,
   "outputs": [],
   "source": [
    "# SSE - Sum of Squared Error is used for clustering evaluation\n",
    "def SSE (center, cluster):\n",
    "    sum = 0\n",
    "    for p in cluster:\n",
    "        d = distance(center, p)\n",
    "        sum = sum + d * d\n",
    "    return sum"
   ],
   "metadata": {
    "collapsed": false
   }
  },
  {
   "cell_type": "code",
   "execution_count": 126,
   "outputs": [
    {
     "name": "stdout",
     "output_type": "stream",
     "text": [
      "1952\n",
      "35056\n",
      "33716\n"
     ]
    }
   ],
   "source": [
    "#SSE of cluster_1\n",
    "cluster_point_x = []\n",
    "for x in cluster_1:\n",
    "    cluster_point_x.append(normalized_music_df[\"popularity\"][x])\n",
    "print(SSE(centroid_1, cluster_point_x))\n",
    "\n",
    "#SSE of cluster_2\n",
    "cluster_point_x = []\n",
    "for x in cluster_2:\n",
    "    cluster_point_x.append(normalized_music_df[\"popularity\"][x])\n",
    "print(SSE(centroid_2, cluster_point_x))\n",
    "\n",
    "#SSE of cluster_3\n",
    "cluster_point_x = []\n",
    "for x in cluster_3:\n",
    "    cluster_point_x.append(normalized_music_df[\"popularity\"][x])\n",
    "print(SSE(centroid_3, cluster_point_x))"
   ],
   "metadata": {
    "collapsed": false
   }
  },
  {
   "cell_type": "code",
   "execution_count": 127,
   "outputs": [],
   "source": [
    "#time to recompute the centroids\n",
    "#do not forget to store the \"old\" centroids; will use them to terminate the algorithm\n",
    "def new_centroid(p):\n",
    "    sum_of_x = 0\n",
    "    sum_of_y = 0\n",
    "    for i in range(len(p)):\n",
    "        sum_of_x = normalized_music_df[\"popularity\"][i] + sum_of_x\n",
    "    for i in range(len(p)):\n",
    "        sum_of_y = normalized_music_df[\"duration (ms)\"][i] + sum_of_y\n",
    "    return int(sum_of_x/len(p)), int(sum_of_y/len(p))"
   ],
   "metadata": {
    "collapsed": false
   }
  },
  {
   "cell_type": "code",
   "execution_count": 128,
   "outputs": [],
   "source": [
    "old_centroid_1 = centroid_1\n",
    "old_centroid_2 = centroid_2\n",
    "old_centroid_3 = centroid_3\n",
    "centroid_1 = new_centroid(cluster_1)\n",
    "centroid_2 = new_centroid(cluster_2)\n",
    "centroid_3 = new_centroid(cluster_3)"
   ],
   "metadata": {
    "collapsed": false
   }
  },
  {
   "cell_type": "code",
   "execution_count": 129,
   "outputs": [
    {
     "name": "stdout",
     "output_type": "stream",
     "text": [
      "False\n",
      "False\n",
      "False\n"
     ]
    }
   ],
   "source": [
    "print(old_centroid_1 == centroid_1)\n",
    "print(old_centroid_2 == centroid_2)\n",
    "print(old_centroid_2 == centroid_2)"
   ],
   "metadata": {
    "collapsed": false
   }
  },
  {
   "cell_type": "code",
   "execution_count": 132,
   "outputs": [],
   "source": [
    "#Need to Repeat\n",
    "cluster_1 = []\n",
    "cluster_2 = []\n",
    "cluster_3 = []\n",
    "for i in range(len(normalized_music_df[\"popularity\"])):\n",
    "    if distance(normalized_music_df[\"popularity\"][i], centroid_1[0]) < distance(normalized_music_df[\"popularity\"][i], centroid_2[0]) and distance(normalized_music_df[\"popularity\"][i], centroid_1[0]) < distance(normalized_music_df[\"popularity\"][i], centroid_3[0]):\n",
    "        cluster_1.append(i)\n",
    "    elif distance(normalized_music_df[\"popularity\"][i], centroid_2[0]) < distance(get_X(normalized_music_df[\"popularity\"])[i], centroid_3[0]):\n",
    "        cluster_2.append(i)\n",
    "    else:\n",
    "        cluster_3.append(i)"
   ],
   "metadata": {
    "collapsed": false
   }
  },
  {
   "cell_type": "code",
   "execution_count": 133,
   "outputs": [
    {
     "data": {
      "text/plain": "<matplotlib.collections.PathCollection at 0x21fb155e080>"
     },
     "execution_count": 133,
     "metadata": {},
     "output_type": "execute_result"
    },
    {
     "data": {
      "text/plain": "<Figure size 640x480 with 1 Axes>",
      "image/png": "[encoded data removed]"
     },
     "metadata": {},
     "output_type": "display_data"
    }
   ],
   "source": [
    "#visualize clusters\n",
    "cluster_point_x = []\n",
    "cluster_point_y = []\n",
    "for x in cluster_1:\n",
    "    cluster_point_x.append(normalized_music_df[\"popularity\"][x])\n",
    "    cluster_point_y.append(normalized_music_df[\"duration (ms)\"][x])\n",
    "X = get_X(cluster_point_x)\n",
    "Y = get_Y(cluster_point_y)\n",
    "plot.ylim([0,105])\n",
    "plot.xlim([0,105])\n",
    "plot.scatter(X, Y, color=\"green\")\n",
    "\n",
    "cluster_point_x = []\n",
    "cluster_point_y = []\n",
    "for x in cluster_2:\n",
    "    cluster_point_x.append(normalized_music_df[\"popularity\"][x])\n",
    "    cluster_point_y.append(normalized_music_df[\"duration (ms)\"][x])\n",
    "X = get_X(cluster_point_x)\n",
    "Y = get_Y(cluster_point_y)\n",
    "plot.ylim([0,105])\n",
    "plot.xlim([0,105])\n",
    "plot.scatter(X, Y, color=\"red\")\n",
    "\n",
    "cluster_point_x = []\n",
    "cluster_point_y = []\n",
    "for x in cluster_3:\n",
    "    cluster_point_x.append(normalized_music_df[\"popularity\"][x])\n",
    "    cluster_point_y.append(normalized_music_df[\"duration (ms)\"][x])\n",
    "X = get_X(cluster_point_x)\n",
    "Y = get_Y(cluster_point_y)\n",
    "plot.ylim([0,105])\n",
    "plot.xlim([0,105])\n",
    "plot.scatter(X, Y, color=\"yellow\")"
   ],
   "metadata": {
    "collapsed": false
   }
  },
  {
   "cell_type": "code",
   "execution_count": 135,
   "outputs": [],
   "source": [
    "#Recompute the centroids\n",
    "old_centroid_1 = centroid_1\n",
    "old_centroid_2 = centroid_2\n",
    "old_centroid_3 = centroid_3\n",
    "centroid_1 = new_centroid(cluster_1)\n",
    "centroid_2 = new_centroid(cluster_2)\n",
    "centroid_3 = new_centroid(cluster_3)"
   ],
   "metadata": {
    "collapsed": false
   }
  },
  {
   "cell_type": "code",
   "execution_count": 136,
   "outputs": [
    {
     "name": "stdout",
     "output_type": "stream",
     "text": [
      "True\n",
      "True\n",
      "False\n"
     ]
    }
   ],
   "source": [
    "print(old_centroid_1 == centroid_1)\n",
    "print(old_centroid_2 == centroid_2)\n",
    "print(old_centroid_3 == centroid_3)"
   ],
   "metadata": {
    "collapsed": false
   }
  },
  {
   "cell_type": "code",
   "execution_count": 137,
   "outputs": [],
   "source": [
    "#Need to Repeat\n",
    "cluster_1 = []\n",
    "cluster_2 = []\n",
    "cluster_3 = []\n",
    "for i in range(len(normalized_music_df[\"popularity\"])):\n",
    "    if distance(normalized_music_df[\"popularity\"][i], centroid_1[0]) < distance(normalized_music_df[\"popularity\"][i], centroid_2[0]) and distance(normalized_music_df[\"popularity\"][i], centroid_1[0]) < distance(normalized_music_df[\"popularity\"][i], centroid_3[0]):\n",
    "        cluster_1.append(i)\n",
    "    elif distance(normalized_music_df[\"popularity\"][i], centroid_2[0]) < distance(get_X(normalized_music_df[\"popularity\"])[i], centroid_3[0]):\n",
    "        cluster_2.append(i)\n",
    "    else:\n",
    "        cluster_3.append(i)"
   ],
   "metadata": {
    "collapsed": false
   }
  },
  {
   "cell_type": "code",
   "execution_count": 152,
   "outputs": [
    {
     "data": {
      "text/plain": "<matplotlib.collections.PathCollection at 0x21fb0c606a0>"
     },
     "execution_count": 152,
     "metadata": {},
     "output_type": "execute_result"
    },
    {
     "data": {
      "text/plain": "<Figure size 640x480 with 1 Axes>",
      "image/png": "[encoded data removed]"
     },
     "metadata": {},
     "output_type": "display_data"
    }
   ],
   "source": [
    "#visualize clusters\n",
    "cluster_point_x = []\n",
    "cluster_point_y = []\n",
    "for x in cluster_1:\n",
    "    cluster_point_x.append(normalized_music_df[\"popularity\"][x])\n",
    "    cluster_point_y.append(normalized_music_df[\"duration (ms)\"][x])\n",
    "X = get_X(cluster_point_x)\n",
    "Y = get_Y(cluster_point_y)\n",
    "plot.ylim([0,105])\n",
    "plot.xlim([0,105])\n",
    "plot.scatter(X, Y, color=\"green\")\n",
    "\n",
    "cluster_point_x = []\n",
    "cluster_point_y = []\n",
    "for x in cluster_2:\n",
    "    cluster_point_x.append(normalized_music_df[\"popularity\"][x])\n",
    "    cluster_point_y.append(normalized_music_df[\"duration (ms)\"][x])\n",
    "X = get_X(cluster_point_x)\n",
    "Y = get_Y(cluster_point_y)\n",
    "plot.ylim([0,105])\n",
    "plot.xlim([0,105])\n",
    "plot.scatter(X, Y, color=\"red\")\n",
    "\n",
    "cluster_point_x = []\n",
    "cluster_point_y = []\n",
    "for x in cluster_3:\n",
    "    cluster_point_x.append(normalized_music_df[\"popularity\"][x])\n",
    "    cluster_point_y.append(normalized_music_df[\"duration (ms)\"][x])\n",
    "X = get_X(cluster_point_x)\n",
    "Y = get_Y(cluster_point_y)\n",
    "plot.ylim([0,105])\n",
    "plot.xlim([0,105])\n",
    "plot.scatter(X, Y, color=\"yellow\")"
   ],
   "metadata": {
    "collapsed": false
   }
  },
  {
   "cell_type": "code",
   "execution_count": 153,
   "outputs": [],
   "source": [
    "#Recompute the centroids\n",
    "old_centroid_1 = centroid_1\n",
    "old_centroid_2 = centroid_2\n",
    "old_centroid_3 = centroid_3\n",
    "centroid_1 = new_centroid(cluster_1)\n",
    "centroid_2 = new_centroid(cluster_2)\n",
    "centroid_3 = new_centroid(cluster_3)"
   ],
   "metadata": {
    "collapsed": false
   }
  },
  {
   "cell_type": "code",
   "execution_count": 154,
   "outputs": [
    {
     "name": "stdout",
     "output_type": "stream",
     "text": [
      "False\n",
      "False\n",
      "False\n"
     ]
    }
   ],
   "source": [
    "print(old_centroid_1 == centroid_1)\n",
    "print(old_centroid_2 == centroid_2)\n",
    "print(old_centroid_3 == centroid_3)"
   ],
   "metadata": {
    "collapsed": false
   }
  },
  {
   "cell_type": "code",
   "execution_count": 156,
   "outputs": [],
   "source": [
    "#Need to Repeat\n",
    "cluster_1 = []\n",
    "cluster_2 = []\n",
    "cluster_3 = []\n",
    "for i in range(len(normalized_music_df[\"popularity\"])):\n",
    "    if distance(normalized_music_df[\"popularity\"][i], centroid_1[0]) < distance(normalized_music_df[\"popularity\"][i], centroid_2[0]) and distance(normalized_music_df[\"popularity\"][i], centroid_1[0]) < distance(normalized_music_df[\"popularity\"][i], centroid_3[0]):\n",
    "        cluster_1.append(i)\n",
    "    elif distance(normalized_music_df[\"popularity\"][i], centroid_2[0]) < distance(get_X(normalized_music_df[\"popularity\"])[i], centroid_3[0]):\n",
    "        cluster_2.append(i)\n",
    "    else:\n",
    "        cluster_3.append(i)"
   ],
   "metadata": {
    "collapsed": false
   }
  },
  {
   "cell_type": "code",
   "execution_count": 157,
   "outputs": [
    {
     "data": {
      "text/plain": "<matplotlib.collections.PathCollection at 0x21fb0d192a0>"
     },
     "execution_count": 157,
     "metadata": {},
     "output_type": "execute_result"
    },
    {
     "data": {
      "text/plain": "<Figure size 640x480 with 1 Axes>",
      "image/png": "[encoded data removed]"
     },
     "metadata": {},
     "output_type": "display_data"
    }
   ],
   "source": [
    "#visualize clusters\n",
    "cluster_point_x = []\n",
    "cluster_point_y = []\n",
    "for x in cluster_1:\n",
    "    cluster_point_x.append(normalized_music_df[\"popularity\"][x])\n",
    "    cluster_point_y.append(normalized_music_df[\"duration (ms)\"][x])\n",
    "X = get_X(cluster_point_x)\n",
    "Y = get_Y(cluster_point_y)\n",
    "plot.ylim([0,105])\n",
    "plot.xlim([0,105])\n",
    "plot.scatter(X, Y, color=\"green\")\n",
    "\n",
    "cluster_point_x = []\n",
    "cluster_point_y = []\n",
    "for x in cluster_2:\n",
    "    cluster_point_x.append(normalized_music_df[\"popularity\"][x])\n",
    "    cluster_point_y.append(normalized_music_df[\"duration (ms)\"][x])\n",
    "X = get_X(cluster_point_x)\n",
    "Y = get_Y(cluster_point_y)\n",
    "plot.ylim([0,105])\n",
    "plot.xlim([0,105])\n",
    "plot.scatter(X, Y, color=\"red\")\n",
    "\n",
    "cluster_point_x = []\n",
    "cluster_point_y = []\n",
    "for x in cluster_3:\n",
    "    cluster_point_x.append(normalized_music_df[\"popularity\"][x])\n",
    "    cluster_point_y.append(normalized_music_df[\"duration (ms)\"][x])\n",
    "X = get_X(cluster_point_x)\n",
    "Y = get_Y(cluster_point_y)\n",
    "plot.ylim([0,105])\n",
    "plot.xlim([0,105])\n",
    "plot.scatter(X, Y, color=\"yellow\")"
   ],
   "metadata": {
    "collapsed": false
   }
  },
  {
   "cell_type": "code",
   "execution_count": 158,
   "outputs": [],
   "source": [
    "#Recompute the centroids\n",
    "old_centroid_1 = centroid_1\n",
    "old_centroid_2 = centroid_2\n",
    "old_centroid_3 = centroid_3\n",
    "centroid_1 = new_centroid(cluster_1)\n",
    "centroid_2 = new_centroid(cluster_2)\n",
    "centroid_3 = new_centroid(cluster_3)"
   ],
   "metadata": {
    "collapsed": false
   }
  },
  {
   "cell_type": "code",
   "execution_count": 159,
   "outputs": [
    {
     "name": "stdout",
     "output_type": "stream",
     "text": [
      "False\n",
      "False\n",
      "False\n"
     ]
    }
   ],
   "source": [
    "print(old_centroid_1 == centroid_1)\n",
    "print(old_centroid_2 == centroid_2)\n",
    "print(old_centroid_3 == centroid_3)"
   ],
   "metadata": {
    "collapsed": false
   }
  },
  {
   "cell_type": "code",
   "execution_count": 143,
   "outputs": [
    {
     "data": {
      "text/plain": "[2, 5, 9, 14, 15, 16, 35, 36, 52, 59, 65, 72, 73, 74]"
     },
     "execution_count": 143,
     "metadata": {},
     "output_type": "execute_result"
    }
   ],
   "source": [],
   "metadata": {
    "collapsed": false
   }
  },
  {
   "cell_type": "code",
   "execution_count": 160,
   "outputs": [
    {
     "data": {
      "text/plain": "<matplotlib.collections.PathCollection at 0x21fb607a050>"
     },
     "execution_count": 160,
     "metadata": {},
     "output_type": "execute_result"
    },
    {
     "data": {
      "text/plain": "<Figure size 640x480 with 1 Axes>",
      "image/png": "[encoded data removed]"
     },
     "metadata": {},
     "output_type": "display_data"
    }
   ],
   "source": [
    "#Need to Repeat\n",
    "cluster_1 = []\n",
    "cluster_2 = []\n",
    "cluster_3 = []\n",
    "for i in range(len(normalized_music_df[\"popularity\"])):\n",
    "    if distance(normalized_music_df[\"popularity\"][i], centroid_1[0]) < distance(normalized_music_df[\"popularity\"][i], centroid_2[0]) and distance(normalized_music_df[\"popularity\"][i], centroid_1[0]) < distance(normalized_music_df[\"popularity\"][i], centroid_3[0]):\n",
    "        cluster_1.append(i)\n",
    "    elif distance(normalized_music_df[\"popularity\"][i], centroid_2[0]) < distance(get_X(normalized_music_df[\"popularity\"])[i], centroid_3[0]):\n",
    "        cluster_2.append(i)\n",
    "    else:\n",
    "        cluster_3.append(i)\n",
    "\n",
    "#visualize clusters\n",
    "cluster_point_x = []\n",
    "cluster_point_y = []\n",
    "for x in cluster_1:\n",
    "    cluster_point_x.append(normalized_music_df[\"popularity\"][x])\n",
    "    cluster_point_y.append(normalized_music_df[\"duration (ms)\"][x])\n",
    "X = get_X(cluster_point_x)\n",
    "Y = get_Y(cluster_point_y)\n",
    "plot.ylim([0,105])\n",
    "plot.xlim([0,105])\n",
    "plot.scatter(X, Y, color=\"green\")\n",
    "\n",
    "cluster_point_x = []\n",
    "cluster_point_y = []\n",
    "for x in cluster_2:\n",
    "    cluster_point_x.append(normalized_music_df[\"popularity\"][x])\n",
    "    cluster_point_y.append(normalized_music_df[\"duration (ms)\"][x])\n",
    "X = get_X(cluster_point_x)\n",
    "Y = get_Y(cluster_point_y)\n",
    "plot.ylim([0,105])\n",
    "plot.xlim([0,105])\n",
    "plot.scatter(X, Y, color=\"red\")\n",
    "\n",
    "cluster_point_x = []\n",
    "cluster_point_y = []\n",
    "for x in cluster_3:\n",
    "    cluster_point_x.append(normalized_music_df[\"popularity\"][x])\n",
    "    cluster_point_y.append(normalized_music_df[\"duration (ms)\"][x])\n",
    "X = get_X(cluster_point_x)\n",
    "Y = get_Y(cluster_point_y)\n",
    "plot.ylim([0,105])\n",
    "plot.xlim([0,105])\n",
    "plot.scatter(X, Y, color=\"yellow\")\n"
   ],
   "metadata": {
    "collapsed": false
   }
  },
  {
   "cell_type": "code",
   "execution_count": 2,
   "outputs": [
    {
     "ename": "NameError",
     "evalue": "name 'centroid_1' is not defined",
     "output_type": "error",
     "traceback": [
      "\u001B[1;31m---------------------------------------------------------------------------\u001B[0m",
      "\u001B[1;31mNameError\u001B[0m                                 Traceback (most recent call last)",
      "Cell \u001B[1;32mIn[2], line 2\u001B[0m\n\u001B[0;32m      1\u001B[0m \u001B[38;5;66;03m#Recompute the centroids\u001B[39;00m\n\u001B[1;32m----> 2\u001B[0m old_centroid_1 \u001B[38;5;241m=\u001B[39m \u001B[43mcentroid_1\u001B[49m\n\u001B[0;32m      3\u001B[0m old_centroid_2 \u001B[38;5;241m=\u001B[39m centroid_2\n\u001B[0;32m      4\u001B[0m old_centroid_3 \u001B[38;5;241m=\u001B[39m centroid_3\n",
      "\u001B[1;31mNameError\u001B[0m: name 'centroid_1' is not defined"
     ]
    }
   ],
   "source": [
    "#Recompute the centroids\n",
    "old_centroid_1 = centroid_1\n",
    "old_centroid_2 = centroid_2\n",
    "old_centroid_3 = centroid_3\n",
    "centroid_1 = new_centroid(cluster_1)\n",
    "centroid_2 = new_centroid(cluster_2)\n",
    "centroid_3 = new_centroid(cluster_3)\n",
    "\n",
    "print(old_centroid_1 == centroid_1)\n",
    "print(old_centroid_2 == centroid_2)\n",
    "print(old_centroid_3 == centroid_3)"
   ],
   "metadata": {
    "collapsed": false
   }
  },
  {
   "cell_type": "code",
   "execution_count": 3,
   "outputs": [
    {
     "ename": "NameError",
     "evalue": "name 'normalized_music_df' is not defined",
     "output_type": "error",
     "traceback": [
      "\u001B[1;31m---------------------------------------------------------------------------\u001B[0m",
      "\u001B[1;31mNameError\u001B[0m                                 Traceback (most recent call last)",
      "Cell \u001B[1;32mIn[3], line 5\u001B[0m\n\u001B[0;32m      3\u001B[0m cluster_2 \u001B[38;5;241m=\u001B[39m []\n\u001B[0;32m      4\u001B[0m cluster_3 \u001B[38;5;241m=\u001B[39m []\n\u001B[1;32m----> 5\u001B[0m \u001B[38;5;28;01mfor\u001B[39;00m i \u001B[38;5;129;01min\u001B[39;00m \u001B[38;5;28mrange\u001B[39m(\u001B[38;5;28mlen\u001B[39m(\u001B[43mnormalized_music_df\u001B[49m[\u001B[38;5;124m\"\u001B[39m\u001B[38;5;124mpopularity\u001B[39m\u001B[38;5;124m\"\u001B[39m])):\n\u001B[0;32m      6\u001B[0m     \u001B[38;5;28;01mif\u001B[39;00m distance(normalized_music_df[\u001B[38;5;124m\"\u001B[39m\u001B[38;5;124mpopularity\u001B[39m\u001B[38;5;124m\"\u001B[39m][i], centroid_1[\u001B[38;5;241m0\u001B[39m]) \u001B[38;5;241m<\u001B[39m distance(normalized_music_df[\u001B[38;5;124m\"\u001B[39m\u001B[38;5;124mpopularity\u001B[39m\u001B[38;5;124m\"\u001B[39m][i], centroid_2[\u001B[38;5;241m0\u001B[39m]) \u001B[38;5;129;01mand\u001B[39;00m distance(normalized_music_df[\u001B[38;5;124m\"\u001B[39m\u001B[38;5;124mpopularity\u001B[39m\u001B[38;5;124m\"\u001B[39m][i], centroid_1[\u001B[38;5;241m0\u001B[39m]) \u001B[38;5;241m<\u001B[39m distance(normalized_music_df[\u001B[38;5;124m\"\u001B[39m\u001B[38;5;124mpopularity\u001B[39m\u001B[38;5;124m\"\u001B[39m][i], centroid_3[\u001B[38;5;241m0\u001B[39m]):\n\u001B[0;32m      7\u001B[0m         cluster_1\u001B[38;5;241m.\u001B[39mappend(i)\n",
      "\u001B[1;31mNameError\u001B[0m: name 'normalized_music_df' is not defined"
     ]
    }
   ],
   "source": [
    "#Need to Repeat\n",
    "cluster_1 = []\n",
    "cluster_2 = []\n",
    "cluster_3 = []\n",
    "for i in range(len(normalized_music_df[\"popularity\"])):\n",
    "    if distance(normalized_music_df[\"popularity\"][i], centroid_1[0]) < distance(normalized_music_df[\"popularity\"][i], centroid_2[0]) and distance(normalized_music_df[\"popularity\"][i], centroid_1[0]) < distance(normalized_music_df[\"popularity\"][i], centroid_3[0]):\n",
    "        cluster_1.append(i)\n",
    "    elif distance(normalized_music_df[\"popularity\"][i], centroid_2[0]) < distance(get_X(normalized_music_df[\"popularity\"])[i], centroid_3[0]):\n",
    "        cluster_2.append(i)\n",
    "    else:\n",
    "        cluster_3.append(i)\n",
    "\n",
    "#visualize clusters\n",
    "cluster_point_x = []\n",
    "cluster_point_y = []\n",
    "for x in cluster_1:\n",
    "    cluster_point_x.append(normalized_music_df[\"popularity\"][x])\n",
    "    cluster_point_y.append(normalized_music_df[\"duration (ms)\"][x])\n",
    "X = get_X(cluster_point_x)\n",
    "Y = get_Y(cluster_point_y)\n",
    "plot.ylim([0,105])\n",
    "plot.xlim([0,105])\n",
    "plot.scatter(X, Y, color=\"green\")\n",
    "\n",
    "cluster_point_x = []\n",
    "cluster_point_y = []\n",
    "for x in cluster_2:\n",
    "    cluster_point_x.append(normalized_music_df[\"popularity\"][x])\n",
    "    cluster_point_y.append(normalized_music_df[\"duration (ms)\"][x])\n",
    "X = get_X(cluster_point_x)\n",
    "Y = get_Y(cluster_point_y)\n",
    "plot.ylim([0,105])\n",
    "plot.xlim([0,105])\n",
    "plot.scatter(X, Y, color=\"red\")\n",
    "\n",
    "cluster_point_x = []\n",
    "cluster_point_y = []\n",
    "for x in cluster_3:\n",
    "    cluster_point_x.append(normalized_music_df[\"popularity\"][x])\n",
    "    cluster_point_y.append(normalized_music_df[\"duration (ms)\"][x])\n",
    "X = get_X(cluster_point_x)\n",
    "Y = get_Y(cluster_point_y)\n",
    "plot.ylim([0,105])\n",
    "plot.xlim([0,105])\n",
    "plot.scatter(X, Y, color=\"yellow\")\n"
   ],
   "metadata": {
    "collapsed": false
   }
  },
  {
   "cell_type": "code",
   "execution_count": 1,
   "outputs": [
    {
     "ename": "NameError",
     "evalue": "name 'cluster_1' is not defined",
     "output_type": "error",
     "traceback": [
      "\u001B[1;31m---------------------------------------------------------------------------\u001B[0m",
      "\u001B[1;31mNameError\u001B[0m                                 Traceback (most recent call last)",
      "Cell \u001B[1;32mIn[1], line 3\u001B[0m\n\u001B[0;32m      1\u001B[0m \u001B[38;5;66;03m#Final SSE of cluster_1\u001B[39;00m\n\u001B[0;32m      2\u001B[0m cluster_point_x \u001B[38;5;241m=\u001B[39m []\n\u001B[1;32m----> 3\u001B[0m \u001B[38;5;28;01mfor\u001B[39;00m x \u001B[38;5;129;01min\u001B[39;00m \u001B[43mcluster_1\u001B[49m:\n\u001B[0;32m      4\u001B[0m     cluster_point_x\u001B[38;5;241m.\u001B[39mappend(normalized_music_df[\u001B[38;5;124m\"\u001B[39m\u001B[38;5;124mpopularity\u001B[39m\u001B[38;5;124m\"\u001B[39m][x])\n\u001B[0;32m      5\u001B[0m \u001B[38;5;28mprint\u001B[39m(SSE(centroid_1[\u001B[38;5;241m0\u001B[39m], cluster_point_x))\n",
      "\u001B[1;31mNameError\u001B[0m: name 'cluster_1' is not defined"
     ]
    }
   ],
   "source": [
    "#Final SSE of cluster_1\n",
    "cluster_point_x = []\n",
    "for x in cluster_1:\n",
    "    cluster_point_x.append(normalized_music_df[\"popularity\"][x])\n",
    "print(SSE(centroid_1[0], cluster_point_x))\n",
    "\n",
    "#Final SSE of cluster_2\n",
    "cluster_point_x = []\n",
    "for x in cluster_2:\n",
    "    cluster_point_x.append(normalized_music_df[\"popularity\"][x])\n",
    "print(SSE(centroid_2[0], cluster_point_x))\n",
    "\n",
    "#Final SSE of cluster_3\n",
    "cluster_point_x = []\n",
    "for x in cluster_3:\n",
    "    cluster_point_x.append(normalized_music_df[\"popularity\"][x])\n",
    "print(SSE(centroid_3[0], cluster_point_x))"
   ],
   "metadata": {
    "collapsed": false
   }
  },
  {
   "cell_type": "code",
   "execution_count": 163,
   "outputs": [
    {
     "name": "stdout",
     "output_type": "stream",
     "text": [
      "False\n",
      "False\n",
      "False\n"
     ]
    }
   ],
   "source": [
    "#Recompute the centroids\n",
    "old_centroid_1 = centroid_1\n",
    "old_centroid_2 = centroid_2\n",
    "old_centroid_3 = centroid_3\n",
    "centroid_1 = new_centroid(cluster_1)\n",
    "centroid_2 = new_centroid(cluster_2)\n",
    "centroid_3 = new_centroid(cluster_3)\n",
    "\n",
    "print(old_centroid_1 == centroid_1)\n",
    "print(old_centroid_2 == centroid_2)\n",
    "print(old_centroid_3 == centroid_3)"
   ],
   "metadata": {
    "collapsed": false
   }
  },
  {
   "cell_type": "code",
   "execution_count": 164,
   "outputs": [
    {
     "data": {
      "text/plain": "<matplotlib.collections.PathCollection at 0x21fb1f51e70>"
     },
     "execution_count": 164,
     "metadata": {},
     "output_type": "execute_result"
    },
    {
     "data": {
      "text/plain": "<Figure size 640x480 with 1 Axes>",
      "image/png": "[encoded data removed]"
     },
     "metadata": {},
     "output_type": "display_data"
    }
   ],
   "source": [
    "#Need to Repeat\n",
    "cluster_1 = []\n",
    "cluster_2 = []\n",
    "cluster_3 = []\n",
    "for i in range(len(normalized_music_df[\"popularity\"])):\n",
    "    if distance(normalized_music_df[\"popularity\"][i], centroid_1[0]) < distance(normalized_music_df[\"popularity\"][i], centroid_2[0]) and distance(normalized_music_df[\"popularity\"][i], centroid_1[0]) < distance(normalized_music_df[\"popularity\"][i], centroid_3[0]):\n",
    "        cluster_1.append(i)\n",
    "    elif distance(normalized_music_df[\"popularity\"][i], centroid_2[0]) < distance(get_X(normalized_music_df[\"popularity\"])[i], centroid_3[0]):\n",
    "        cluster_2.append(i)\n",
    "    else:\n",
    "        cluster_3.append(i)\n",
    "\n",
    "#visualize clusters\n",
    "cluster_point_x = []\n",
    "cluster_point_y = []\n",
    "for x in cluster_1:\n",
    "    cluster_point_x.append(normalized_music_df[\"popularity\"][x])\n",
    "    cluster_point_y.append(normalized_music_df[\"duration (ms)\"][x])\n",
    "X = get_X(cluster_point_x)\n",
    "Y = get_Y(cluster_point_y)\n",
    "plot.ylim([0,105])\n",
    "plot.xlim([0,105])\n",
    "plot.scatter(X, Y, color=\"green\")\n",
    "\n",
    "cluster_point_x = []\n",
    "cluster_point_y = []\n",
    "for x in cluster_2:\n",
    "    cluster_point_x.append(normalized_music_df[\"popularity\"][x])\n",
    "    cluster_point_y.append(normalized_music_df[\"duration (ms)\"][x])\n",
    "X = get_X(cluster_point_x)\n",
    "Y = get_Y(cluster_point_y)\n",
    "plot.ylim([0,105])\n",
    "plot.xlim([0,105])\n",
    "plot.scatter(X, Y, color=\"red\")\n",
    "\n",
    "cluster_point_x = []\n",
    "cluster_point_y = []\n",
    "for x in cluster_3:\n",
    "    cluster_point_x.append(normalized_music_df[\"popularity\"][x])\n",
    "    cluster_point_y.append(normalized_music_df[\"duration (ms)\"][x])\n",
    "X = get_X(cluster_point_x)\n",
    "Y = get_Y(cluster_point_y)\n",
    "plot.ylim([0,105])\n",
    "plot.xlim([0,105])\n",
    "plot.scatter(X, Y, color=\"yellow\")\n"
   ],
   "metadata": {
    "collapsed": false
   }
  },
  {
   "cell_type": "code",
   "execution_count": 165,
   "outputs": [
    {
     "name": "stdout",
     "output_type": "stream",
     "text": [
      "False\n",
      "False\n",
      "False\n"
     ]
    }
   ],
   "source": [
    "#Recompute the centroids\n",
    "old_centroid_1 = centroid_1\n",
    "old_centroid_2 = centroid_2\n",
    "old_centroid_3 = centroid_3\n",
    "centroid_1 = new_centroid(cluster_1)\n",
    "centroid_2 = new_centroid(cluster_2)\n",
    "centroid_3 = new_centroid(cluster_3)\n",
    "\n",
    "print(old_centroid_1 == centroid_1)\n",
    "print(old_centroid_2 == centroid_2)\n",
    "print(old_centroid_3 == centroid_3)"
   ],
   "metadata": {
    "collapsed": false
   }
  },
  {
   "cell_type": "code",
   "execution_count": 166,
   "outputs": [
    {
     "data": {
      "text/plain": "<matplotlib.collections.PathCollection at 0x21fb0352380>"
     },
     "execution_count": 166,
     "metadata": {},
     "output_type": "execute_result"
    },
    {
     "data": {
      "text/plain": "<Figure size 640x480 with 1 Axes>",
      "image/png": "[encoded data removed]"
     },
     "metadata": {},
     "output_type": "display_data"
    }
   ],
   "source": [
    "#Need to Repeat\n",
    "cluster_1 = []\n",
    "cluster_2 = []\n",
    "cluster_3 = []\n",
    "for i in range(len(normalized_music_df[\"popularity\"])):\n",
    "    if distance(normalized_music_df[\"popularity\"][i], centroid_1[0]) < distance(normalized_music_df[\"popularity\"][i], centroid_2[0]) and distance(normalized_music_df[\"popularity\"][i], centroid_1[0]) < distance(normalized_music_df[\"popularity\"][i], centroid_3[0]):\n",
    "        cluster_1.append(i)\n",
    "    elif distance(normalized_music_df[\"popularity\"][i], centroid_2[0]) < distance(get_X(normalized_music_df[\"popularity\"])[i], centroid_3[0]):\n",
    "        cluster_2.append(i)\n",
    "    else:\n",
    "        cluster_3.append(i)\n",
    "\n",
    "#visualize clusters\n",
    "cluster_point_x = []\n",
    "cluster_point_y = []\n",
    "for x in cluster_1:\n",
    "    cluster_point_x.append(normalized_music_df[\"popularity\"][x])\n",
    "    cluster_point_y.append(normalized_music_df[\"duration (ms)\"][x])\n",
    "X = get_X(cluster_point_x)\n",
    "Y = get_Y(cluster_point_y)\n",
    "plot.ylim([0,105])\n",
    "plot.xlim([0,105])\n",
    "plot.scatter(X, Y, color=\"green\")\n",
    "\n",
    "cluster_point_x = []\n",
    "cluster_point_y = []\n",
    "for x in cluster_2:\n",
    "    cluster_point_x.append(normalized_music_df[\"popularity\"][x])\n",
    "    cluster_point_y.append(normalized_music_df[\"duration (ms)\"][x])\n",
    "X = get_X(cluster_point_x)\n",
    "Y = get_Y(cluster_point_y)\n",
    "plot.ylim([0,105])\n",
    "plot.xlim([0,105])\n",
    "plot.scatter(X, Y, color=\"red\")\n",
    "\n",
    "cluster_point_x = []\n",
    "cluster_point_y = []\n",
    "for x in cluster_3:\n",
    "    cluster_point_x.append(normalized_music_df[\"popularity\"][x])\n",
    "    cluster_point_y.append(normalized_music_df[\"duration (ms)\"][x])\n",
    "X = get_X(cluster_point_x)\n",
    "Y = get_Y(cluster_point_y)\n",
    "plot.ylim([0,105])\n",
    "plot.xlim([0,105])\n",
    "plot.scatter(X, Y, color=\"yellow\")\n"
   ],
   "metadata": {
    "collapsed": false
   }
  },
  {
   "cell_type": "code",
   "execution_count": 167,
   "outputs": [
    {
     "name": "stdout",
     "output_type": "stream",
     "text": [
      "False\n",
      "False\n",
      "False\n"
     ]
    }
   ],
   "source": [
    "#Recompute the centroids\n",
    "old_centroid_1 = centroid_1\n",
    "old_centroid_2 = centroid_2\n",
    "old_centroid_3 = centroid_3\n",
    "centroid_1 = new_centroid(cluster_1)\n",
    "centroid_2 = new_centroid(cluster_2)\n",
    "centroid_3 = new_centroid(cluster_3)\n",
    "\n",
    "print(old_centroid_1 == centroid_1)\n",
    "print(old_centroid_2 == centroid_2)\n",
    "print(old_centroid_3 == centroid_3)\n"
   ],
   "metadata": {
    "collapsed": false
   }
  },
  {
   "cell_type": "code",
   "execution_count": 171,
   "outputs": [
    {
     "data": {
      "text/plain": "<matplotlib.collections.PathCollection at 0x21fb6552980>"
     },
     "execution_count": 171,
     "metadata": {},
     "output_type": "execute_result"
    },
    {
     "data": {
      "text/plain": "<Figure size 640x480 with 1 Axes>",
      "image/png": "[encoded data removed]"
     },
     "metadata": {},
     "output_type": "display_data"
    }
   ],
   "source": [
    "#Need to Repeat\n",
    "cluster_1 = []\n",
    "cluster_2 = []\n",
    "cluster_3 = []\n",
    "for i in range(len(normalized_music_df[\"popularity\"])):\n",
    "    if distance(normalized_music_df[\"popularity\"][i], centroid_1[0]) < distance(normalized_music_df[\"popularity\"][i], centroid_2[0]) and distance(normalized_music_df[\"popularity\"][i], centroid_1[0]) < distance(normalized_music_df[\"popularity\"][i], centroid_3[0]):\n",
    "        cluster_1.append(i)\n",
    "    elif distance(normalized_music_df[\"popularity\"][i], centroid_2[0]) < distance(get_X(normalized_music_df[\"popularity\"])[i], centroid_3[0]):\n",
    "        cluster_2.append(i)\n",
    "    else:\n",
    "        cluster_3.append(i)\n",
    "\n",
    "#visualize clusters\n",
    "cluster_point_x = []\n",
    "cluster_point_y = []\n",
    "for x in cluster_1:\n",
    "    cluster_point_x.append(normalized_music_df[\"popularity\"][x])\n",
    "    cluster_point_y.append(normalized_music_df[\"duration (ms)\"][x])\n",
    "X = get_X(cluster_point_x)\n",
    "Y = get_Y(cluster_point_y)\n",
    "plot.ylim([0,105])\n",
    "plot.xlim([0,105])\n",
    "plot.scatter(X, Y, color=\"green\")\n",
    "\n",
    "cluster_point_x = []\n",
    "cluster_point_y = []\n",
    "for x in cluster_2:\n",
    "    cluster_point_x.append(normalized_music_df[\"popularity\"][x])\n",
    "    cluster_point_y.append(normalized_music_df[\"duration (ms)\"][x])\n",
    "X = get_X(cluster_point_x)\n",
    "Y = get_Y(cluster_point_y)\n",
    "plot.ylim([0,105])\n",
    "plot.xlim([0,105])\n",
    "plot.scatter(X, Y, color=\"red\")\n",
    "\n",
    "cluster_point_x = []\n",
    "cluster_point_y = []\n",
    "for x in cluster_3:\n",
    "    cluster_point_x.append(normalized_music_df[\"popularity\"][x])\n",
    "    cluster_point_y.append(normalized_music_df[\"duration (ms)\"][x])\n",
    "X = get_X(cluster_point_x)\n",
    "Y = get_Y(cluster_point_y)\n",
    "plot.ylim([0,105])\n",
    "plot.xlim([0,105])\n",
    "plot.scatter(X, Y, color=\"yellow\")\n"
   ],
   "metadata": {
    "collapsed": false
   }
  },
  {
   "cell_type": "code",
   "execution_count": 172,
   "outputs": [
    {
     "name": "stdout",
     "output_type": "stream",
     "text": [
      "False\n",
      "False\n",
      "False\n"
     ]
    }
   ],
   "source": [
    "#Recompute the centroids\n",
    "old_centroid_1 = centroid_1\n",
    "old_centroid_2 = centroid_2\n",
    "old_centroid_3 = centroid_3\n",
    "centroid_1 = new_centroid(cluster_1)\n",
    "centroid_2 = new_centroid(cluster_2)\n",
    "centroid_3 = new_centroid(cluster_3)\n",
    "\n",
    "print(old_centroid_1 == centroid_1)\n",
    "print(old_centroid_2 == centroid_2)\n",
    "print(old_centroid_3 == centroid_3)\n"
   ],
   "metadata": {
    "collapsed": false
   }
  },
  {
   "cell_type": "code",
   "execution_count": 173,
   "outputs": [
    {
     "data": {
      "text/plain": "<matplotlib.collections.PathCollection at 0x21fb16831c0>"
     },
     "execution_count": 173,
     "metadata": {},
     "output_type": "execute_result"
    },
    {
     "data": {
      "text/plain": "<Figure size 640x480 with 1 Axes>",
      "image/png": "[encoded data removed]"
     },
     "metadata": {},
     "output_type": "display_data"
    }
   ],
   "source": [
    "#Need to Repeat\n",
    "cluster_1 = []\n",
    "cluster_2 = []\n",
    "cluster_3 = []\n",
    "for i in range(len(normalized_music_df[\"popularity\"])):\n",
    "    if distance(normalized_music_df[\"popularity\"][i], centroid_1[0]) < distance(normalized_music_df[\"popularity\"][i], centroid_2[0]) and distance(normalized_music_df[\"popularity\"][i], centroid_1[0]) < distance(normalized_music_df[\"popularity\"][i], centroid_3[0]):\n",
    "        cluster_1.append(i)\n",
    "    elif distance(normalized_music_df[\"popularity\"][i], centroid_2[0]) < distance(get_X(normalized_music_df[\"popularity\"])[i], centroid_3[0]):\n",
    "        cluster_2.append(i)\n",
    "    else:\n",
    "        cluster_3.append(i)\n",
    "\n",
    "#visualize clusters\n",
    "cluster_point_x = []\n",
    "cluster_point_y = []\n",
    "for x in cluster_1:\n",
    "    cluster_point_x.append(normalized_music_df[\"popularity\"][x])\n",
    "    cluster_point_y.append(normalized_music_df[\"duration (ms)\"][x])\n",
    "X = get_X(cluster_point_x)\n",
    "Y = get_Y(cluster_point_y)\n",
    "plot.ylim([0,105])\n",
    "plot.xlim([0,105])\n",
    "plot.scatter(X, Y, color=\"green\")\n",
    "\n",
    "cluster_point_x = []\n",
    "cluster_point_y = []\n",
    "for x in cluster_2:\n",
    "    cluster_point_x.append(normalized_music_df[\"popularity\"][x])\n",
    "    cluster_point_y.append(normalized_music_df[\"duration (ms)\"][x])\n",
    "X = get_X(cluster_point_x)\n",
    "Y = get_Y(cluster_point_y)\n",
    "plot.ylim([0,105])\n",
    "plot.xlim([0,105])\n",
    "plot.scatter(X, Y, color=\"red\")\n",
    "\n",
    "cluster_point_x = []\n",
    "cluster_point_y = []\n",
    "for x in cluster_3:\n",
    "    cluster_point_x.append(normalized_music_df[\"popularity\"][x])\n",
    "    cluster_point_y.append(normalized_music_df[\"duration (ms)\"][x])\n",
    "X = get_X(cluster_point_x)\n",
    "Y = get_Y(cluster_point_y)\n",
    "plot.ylim([0,105])\n",
    "plot.xlim([0,105])\n",
    "plot.scatter(X, Y, color=\"yellow\")\n"
   ],
   "metadata": {
    "collapsed": false
   }
  },
  {
   "cell_type": "code",
   "execution_count": 180,
   "outputs": [
    {
     "name": "stdout",
     "output_type": "stream",
     "text": [
      "True\n",
      "True\n",
      "True\n",
      "(56, 37)\n",
      "(68, 39)\n",
      "(55, 40)\n"
     ]
    }
   ],
   "source": [
    "#Recompute the centroids\n",
    "old_centroid_1 = centroid_1\n",
    "old_centroid_2 = centroid_2\n",
    "old_centroid_3 = centroid_3\n",
    "centroid_1 = new_centroid(cluster_1)\n",
    "centroid_2 = new_centroid(cluster_2)\n",
    "centroid_3 = new_centroid(cluster_3)\n",
    "\n",
    "print(old_centroid_1 == centroid_1)\n",
    "print(old_centroid_2 == centroid_2)\n",
    "print(old_centroid_3 == centroid_3)\n",
    "\n",
    "print(centroid_1)\n",
    "print(centroid_2)\n",
    "print(centroid_3)"
   ],
   "metadata": {
    "collapsed": false
   }
  },
  {
   "cell_type": "code",
   "execution_count": 181,
   "outputs": [
    {
     "data": {
      "text/plain": "<matplotlib.collections.PathCollection at 0x21fb5c57a60>"
     },
     "execution_count": 181,
     "metadata": {},
     "output_type": "execute_result"
    },
    {
     "data": {
      "text/plain": "<Figure size 640x480 with 1 Axes>",
      "image/png": "[encoded data removed]"
     },
     "metadata": {},
     "output_type": "display_data"
    }
   ],
   "source": [
    "#Need to Repeat\n",
    "cluster_1 = []\n",
    "cluster_2 = []\n",
    "cluster_3 = []\n",
    "for i in range(len(normalized_music_df[\"popularity\"])):\n",
    "    if distance(normalized_music_df[\"popularity\"][i], centroid_1[0]) < distance(normalized_music_df[\"popularity\"][i], centroid_2[0]) and distance(normalized_music_df[\"popularity\"][i], centroid_1[0]) < distance(normalized_music_df[\"popularity\"][i], centroid_3[0]):\n",
    "        cluster_1.append(i)\n",
    "    elif distance(normalized_music_df[\"popularity\"][i], centroid_2[0]) < distance(get_X(normalized_music_df[\"popularity\"])[i], centroid_3[0]):\n",
    "        cluster_2.append(i)\n",
    "    else:\n",
    "        cluster_3.append(i)\n",
    "\n",
    "#visualize clusters\n",
    "cluster_point_x = []\n",
    "cluster_point_y = []\n",
    "for x in cluster_1:\n",
    "    cluster_point_x.append(normalized_music_df[\"popularity\"][x])\n",
    "    cluster_point_y.append(normalized_music_df[\"duration (ms)\"][x])\n",
    "X = get_X(cluster_point_x)\n",
    "Y = get_Y(cluster_point_y)\n",
    "plot.ylim([0,105])\n",
    "plot.xlim([0,105])\n",
    "plot.scatter(X, Y, color=\"green\")\n",
    "\n",
    "cluster_point_x = []\n",
    "cluster_point_y = []\n",
    "for x in cluster_2:\n",
    "    cluster_point_x.append(normalized_music_df[\"popularity\"][x])\n",
    "    cluster_point_y.append(normalized_music_df[\"duration (ms)\"][x])\n",
    "X = get_X(cluster_point_x)\n",
    "Y = get_Y(cluster_point_y)\n",
    "plot.ylim([0,105])\n",
    "plot.xlim([0,105])\n",
    "plot.scatter(X, Y, color=\"red\")\n",
    "\n",
    "cluster_point_x = []\n",
    "cluster_point_y = []\n",
    "for x in cluster_3:\n",
    "    cluster_point_x.append(normalized_music_df[\"popularity\"][x])\n",
    "    cluster_point_y.append(normalized_music_df[\"duration (ms)\"][x])\n",
    "X = get_X(cluster_point_x)\n",
    "Y = get_Y(cluster_point_y)\n",
    "plot.ylim([0,105])\n",
    "plot.xlim([0,105])\n",
    "plot.scatter(X, Y, color=\"yellow\")\n"
   ],
   "metadata": {
    "collapsed": false
   }
  },
  {
   "cell_type": "code",
   "execution_count": 182,
   "outputs": [
    {
     "data": {
      "text/plain": "[1, 2, 5, 9, 14, 15, 16, 17, 35, 36, 43, 59, 65, 70, 72, 73, 74, 81, 88]"
     },
     "execution_count": 182,
     "metadata": {},
     "output_type": "execute_result"
    }
   ],
   "source": [
    "cluster_1"
   ],
   "metadata": {
    "collapsed": false
   }
  },
  {
   "cell_type": "code",
   "execution_count": 183,
   "outputs": [
    {
     "data": {
      "text/plain": "[0,\n 3,\n 4,\n 6,\n 7,\n 8,\n 10,\n 11,\n 13,\n 18,\n 19,\n 20,\n 21,\n 22,\n 24,\n 26,\n 34,\n 38,\n 45,\n 46,\n 47,\n 48,\n 51,\n 52,\n 53,\n 55,\n 58,\n 60,\n 61,\n 62,\n 63,\n 64,\n 66,\n 67,\n 68,\n 71,\n 75,\n 76,\n 78,\n 79,\n 82,\n 83,\n 84,\n 85,\n 86,\n 89,\n 90,\n 91,\n 93,\n 97,\n 99]"
     },
     "execution_count": 183,
     "metadata": {},
     "output_type": "execute_result"
    }
   ],
   "source": [
    "cluster_2"
   ],
   "metadata": {
    "collapsed": false
   }
  },
  {
   "cell_type": "code",
   "execution_count": 184,
   "outputs": [
    {
     "data": {
      "text/plain": "[12,\n 23,\n 25,\n 27,\n 28,\n 29,\n 30,\n 31,\n 32,\n 33,\n 37,\n 39,\n 40,\n 41,\n 42,\n 44,\n 49,\n 50,\n 54,\n 56,\n 57,\n 69,\n 77,\n 80,\n 87,\n 92,\n 94,\n 95,\n 96,\n 98]"
     },
     "execution_count": 184,
     "metadata": {},
     "output_type": "execute_result"
    }
   ],
   "source": [
    "cluster_3"
   ],
   "metadata": {
    "collapsed": false
   }
  },
  {
   "cell_type": "code",
   "execution_count": 185,
   "outputs": [
    {
     "name": "stdout",
     "output_type": "stream",
     "text": [
      "424\n",
      "22188\n",
      "103940\n"
     ]
    }
   ],
   "source": [
    "#Final SSE of cluster_1\n",
    "cluster_point_x = []\n",
    "for x in cluster_1:\n",
    "    cluster_point_x.append(normalized_music_df[\"popularity\"][x])\n",
    "print(SSE(centroid_1[0], cluster_point_x))\n",
    "\n",
    "#Final SSE of cluster_2\n",
    "cluster_point_x = []\n",
    "for x in cluster_2:\n",
    "    cluster_point_x.append(normalized_music_df[\"popularity\"][x])\n",
    "print(SSE(centroid_2[0], cluster_point_x))\n",
    "\n",
    "#Final SSE of cluster_3\n",
    "cluster_point_x = []\n",
    "for x in cluster_3:\n",
    "    cluster_point_x.append(normalized_music_df[\"popularity\"][x])\n",
    "print(SSE(centroid_3[0], cluster_point_x))"
   ],
   "metadata": {
    "collapsed": false
   }
  },
  {
   "cell_type": "code",
   "execution_count": null,
   "outputs": [],
   "source": [],
   "metadata": {
    "collapsed": false
   }
  }
 ],
 "metadata": {
  "kernelspec": {
   "display_name": "Python 3",
   "language": "python",
   "name": "python3"
  },
  "language_info": {
   "codemirror_mode": {
    "name": "ipython",
    "version": 2
   },
   "file_extension": ".py",
   "mimetype": "text/x-python",
   "name": "python",
   "nbconvert_exporter": "python",
   "pygments_lexer": "ipython2",
   "version": "2.7.6"
  }
 },
 "nbformat": 4,
 "nbformat_minor": 0
}
