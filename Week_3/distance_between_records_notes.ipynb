{
 "cells": [
  {
   "cell_type": "code",
   "execution_count": 4,
   "metadata": {
    "collapsed": true
   },
   "outputs": [],
   "source": [
    "data = [300, 250, 220, 190, 100, 160]\n",
    "\n",
    "min = 100\n",
    "max = 300"
   ]
  },
  {
   "cell_type": "code",
   "execution_count": 5,
   "outputs": [],
   "source": [
    "# min-max normalization\n",
    "def normalize_data(data, min, max):\n",
    "    new_data = []\n",
    "    for i in range(len(data)):\n",
    "        new_value = (data[i] - min)/ (max - min )\n",
    "        new_data.append(new_value)\n",
    "    return new_data"
   ],
   "metadata": {
    "collapsed": false
   }
  },
  {
   "cell_type": "code",
   "execution_count": 6,
   "outputs": [
    {
     "data": {
      "text/plain": "[1.0, 0.75, 0.6, 0.45, 0.0, 0.3]"
     },
     "execution_count": 6,
     "metadata": {},
     "output_type": "execute_result"
    }
   ],
   "source": [
    "data_1 = normalize_data(data, min, max)\n",
    "data_1"
   ],
   "metadata": {
    "collapsed": false
   }
  },
  {
   "cell_type": "code",
   "execution_count": 7,
   "outputs": [],
   "source": [
    "# compute distance matrix for numerical values\n",
    "import math\n",
    "def compute_distance_matrix(data):\n",
    "    distance_matrix = []\n",
    "    for i in range(len(data)):\n",
    "        temp = []\n",
    "        for j in range(len(data)):\n",
    "            difference = round(math.fabs(data[i] - data[j]), 2)\n",
    "            temp.append(difference)\n",
    "        distance_matrix.append(temp)\n",
    "    return distance_matrix"
   ],
   "metadata": {
    "collapsed": false
   }
  },
  {
   "cell_type": "code",
   "execution_count": 8,
   "outputs": [
    {
     "data": {
      "text/plain": "[[0.0, 0.25, 0.4, 0.55, 1.0, 0.7],\n [0.25, 0.0, 0.15, 0.3, 0.75, 0.45],\n [0.4, 0.15, 0.0, 0.15, 0.6, 0.3],\n [0.55, 0.3, 0.15, 0.0, 0.45, 0.15],\n [1.0, 0.75, 0.6, 0.45, 0.0, 0.3],\n [0.7, 0.45, 0.3, 0.15, 0.3, 0.0]]"
     },
     "execution_count": 8,
     "metadata": {},
     "output_type": "execute_result"
    }
   ],
   "source": [
    "compute_distance_matrix(data_1)"
   ],
   "metadata": {
    "collapsed": false
   }
  },
  {
   "cell_type": "code",
   "execution_count": 9,
   "outputs": [],
   "source": [
    "colors = ['blue', 'green', 'red', 'blue', 'white', 'red' ]"
   ],
   "metadata": {
    "collapsed": false
   }
  },
  {
   "cell_type": "code",
   "execution_count": 10,
   "outputs": [],
   "source": [
    "# computer distance matrix for categorical values\n",
    "def compute_distance_nominal(data):\n",
    "    distance_matrix = []\n",
    "    for i in range(len(data)):\n",
    "        temp = []\n",
    "        for j in range(len(data)):\n",
    "            if (data[i] != data[j]):\n",
    "                difference = 1\n",
    "            else:\n",
    "                difference = 0\n",
    "            temp.append(difference)\n",
    "        distance_matrix.append(temp)\n",
    "    return distance_matrix"
   ],
   "metadata": {
    "collapsed": false
   }
  },
  {
   "cell_type": "code",
   "execution_count": 11,
   "outputs": [
    {
     "data": {
      "text/plain": "[[0, 1, 1, 0, 1, 1],\n [1, 0, 1, 1, 1, 1],\n [1, 1, 0, 1, 1, 0],\n [0, 1, 1, 0, 1, 1],\n [1, 1, 1, 1, 0, 1],\n [1, 1, 0, 1, 1, 0]]"
     },
     "execution_count": 11,
     "metadata": {},
     "output_type": "execute_result"
    }
   ],
   "source": [
    "compute_distance_nominal(colors)"
   ],
   "metadata": {
    "collapsed": false
   }
  },
  {
   "cell_type": "code",
   "execution_count": 12,
   "outputs": [],
   "source": [
    "status = ['freshman', 'senior', 'junior', 'freshman', 'sophmore', 'junior']"
   ],
   "metadata": {
    "collapsed": false
   }
  },
  {
   "cell_type": "code",
   "execution_count": 13,
   "outputs": [],
   "source": [
    "# compute distance matrix for ordinal values\n",
    "import math\n",
    "def compute_distance_ordinal(data):\n",
    "    distance_matrix = []\n",
    "    rank_order = ['freshman', 'sophomore', 'junior', 'senior']\n",
    "    for i in range(len(data)):\n",
    "        temp = []\n",
    "        for j in range(len(data)):\n",
    "            rank_i = 0\n",
    "            rank_j = 0\n",
    "            for k in range(len(rank_order)):\n",
    "                if (data[i] == rank_order[k]):\n",
    "                    rank_i = k+1\n",
    "                if (data[j] == rank_order[k]):\n",
    "                    rank_j = k+1\n",
    "                difference = round((math.fabs(rank_i-rank_j))/(len(rank_order) - 1), 2)\n",
    "            temp.append(difference)\n",
    "        distance_matrix.append(temp)\n",
    "    return distance_matrix"
   ],
   "metadata": {
    "collapsed": false
   }
  },
  {
   "cell_type": "code",
   "execution_count": 14,
   "outputs": [
    {
     "data": {
      "text/plain": "[[0.0, 1.0, 0.67, 0.0, 0.33, 0.67],\n [1.0, 0.0, 0.33, 1.0, 1.33, 0.33],\n [0.67, 0.33, 0.0, 0.67, 1.0, 0.0],\n [0.0, 1.0, 0.67, 0.0, 0.33, 0.67],\n [0.33, 1.33, 1.0, 0.33, 0.0, 1.0],\n [0.67, 0.33, 0.0, 0.67, 1.0, 0.0]]"
     },
     "execution_count": 14,
     "metadata": {},
     "output_type": "execute_result"
    }
   ],
   "source": [
    "compute_distance_ordinal(status)"
   ],
   "metadata": {
    "collapsed": false
   }
  },
  {
   "cell_type": "code",
   "execution_count": 15,
   "outputs": [],
   "source": [
    "# computer distance for normalized numerical values; same as Cell [6]\n",
    "import math\n",
    "def compute_distance_numerical(data):\n",
    "    distance_matrix = []\n",
    "    for i in range(len(data)):\n",
    "        temp = []\n",
    "        for j in range(len(data)):\n",
    "            difference = round(math.fabs(data[i] - data[j]), 2)\n",
    "            temp.append(difference)\n",
    "        distance_matrix.append(temp)\n",
    "    return distance_matrix"
   ],
   "metadata": {
    "collapsed": false
   }
  },
  {
   "cell_type": "code",
   "execution_count": 16,
   "outputs": [],
   "source": [
    "wallet = [300, 250, 220, 190, 100, 160]\n",
    "colors = ['blue', 'green', 'red', 'blue', 'white', 'red' ]\n",
    "status = ['freshman', 'senior', 'junior', 'freshman', 'sophmore', 'junior']\n",
    "wallet_normalized = normalize_data(wallet, min, max)\n",
    "wallet_difference = compute_distance_numerical(wallet_normalized)\n",
    "colors_difference = compute_distance_nominal(colors)\n",
    "status_difference = compute_distance_ordinal(status)"
   ],
   "metadata": {
    "collapsed": false
   }
  },
  {
   "cell_type": "code",
   "execution_count": 17,
   "outputs": [],
   "source": [
    "# combine 3 distances with even weights (1/3 for each attribute)\n",
    "def compute_distance_final(distance_num, distance_cat, distance_or):\n",
    "    distance_matrix = []\n",
    "    for i in range(len(distance_num)):\n",
    "        temp = []\n",
    "        for j in range(len(distance_num)):\n",
    "            sum = round((distance_num[i][j] +  distance_cat[i][j] + distance_or[i][j])*(1/3),2)\n",
    "            temp.append(sum)\n",
    "        distance_matrix.append(temp)\n",
    "    return distance_matrix"
   ],
   "metadata": {
    "collapsed": false
   }
  },
  {
   "cell_type": "code",
   "execution_count": 19,
   "outputs": [
    {
     "data": {
      "text/plain": "[[0.0, 0.75, 0.69, 0.18, 0.78, 0.79],\n [0.75, 0.0, 0.49, 0.77, 1.03, 0.59],\n [0.69, 0.49, 0.0, 0.61, 0.87, 0.1],\n [0.18, 0.77, 0.61, 0.0, 0.59, 0.61],\n [0.78, 1.03, 0.87, 0.59, 0.0, 0.77],\n [0.79, 0.59, 0.1, 0.61, 0.77, 0.0]]"
     },
     "execution_count": 19,
     "metadata": {},
     "output_type": "execute_result"
    }
   ],
   "source": [
    "distance_final= compute_distance_final(wallet_difference, colors_difference ,status_difference )\n",
    "distance_final"
   ],
   "metadata": {
    "collapsed": false
   }
  },
  {
   "cell_type": "code",
   "execution_count": 20,
   "outputs": [],
   "source": [
    "desired_i = int(input(\"Input the first object index (0-5)\"))"
   ],
   "metadata": {
    "collapsed": false
   }
  },
  {
   "cell_type": "code",
   "execution_count": 21,
   "outputs": [],
   "source": [
    "desired_j = int(input(\"Input the second object index (0-5)\"))"
   ],
   "metadata": {
    "collapsed": false
   }
  },
  {
   "cell_type": "code",
   "execution_count": 23,
   "outputs": [
    {
     "data": {
      "text/plain": "0.49"
     },
     "execution_count": 23,
     "metadata": {},
     "output_type": "execute_result"
    }
   ],
   "source": [
    "distance = distance_final[desired_i][desired_j]\n",
    "distance"
   ],
   "metadata": {
    "collapsed": false
   }
  },
  {
   "cell_type": "code",
   "execution_count": null,
   "outputs": [],
   "source": [],
   "metadata": {
    "collapsed": false
   }
  }
 ],
 "metadata": {
  "kernelspec": {
   "display_name": "Python 3",
   "language": "python",
   "name": "python3"
  },
  "language_info": {
   "codemirror_mode": {
    "name": "ipython",
    "version": 2
   },
   "file_extension": ".py",
   "mimetype": "text/x-python",
   "name": "python",
   "nbconvert_exporter": "python",
   "pygments_lexer": "ipython2",
   "version": "2.7.6"
  }
 },
 "nbformat": 4,
 "nbformat_minor": 0
}
