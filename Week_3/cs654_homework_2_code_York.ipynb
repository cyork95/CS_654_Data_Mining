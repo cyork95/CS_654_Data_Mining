{
 "cells": [
  {
   "cell_type": "code",
   "execution_count": 1,
   "metadata": {
    "collapsed": true
   },
   "outputs": [],
   "source": [
    "# Import the pandas module\n",
    "import pandas as ps\n",
    "import math\n",
    "\n",
    "music_df = ps.read_csv('cs654_homework2_dataset1_York.csv')\n",
    "\n",
    "crime_df = ps.read_csv('cs654_homework2_dataset2_York.csv')"
   ]
  },
  {
   "cell_type": "code",
   "execution_count": 2,
   "outputs": [],
   "source": [
    "def convert_time_to_seconds(time):\n",
    "    (h, m, s) = time.split(':')\n",
    "    result = int(h) * 3600 + int(m) * 60 + int(s)\n",
    "    return result"
   ],
   "metadata": {
    "collapsed": false
   }
  },
  {
   "cell_type": "code",
   "execution_count": 3,
   "outputs": [],
   "source": [
    "def convert_time_list_to_seconds_list(time_list):\n",
    "    result_list = []\n",
    "    for time in time_list:\n",
    "        (h, m, s) = time.split(':')\n",
    "        result = int(h) * 3600 + int(m) * 60 + int(s)\n",
    "        result_list.append(result)\n",
    "    return result_list"
   ],
   "metadata": {
    "collapsed": false
   }
  },
  {
   "cell_type": "code",
   "execution_count": 4,
   "outputs": [],
   "source": [
    "# min-max normalization\n",
    "def normalize_data(attribute, min_value, max_value):\n",
    "    new_value = (attribute - min_value) / (max_value - min_value )\n",
    "    return new_value"
   ],
   "metadata": {
    "collapsed": false
   }
  },
  {
   "cell_type": "code",
   "execution_count": 5,
   "outputs": [],
   "source": [
    "def compute_distance_numerical(attribute_1, attribute_2):\n",
    "    difference = round(math.fabs(attribute_1 - attribute_2), 2)\n",
    "    return difference"
   ],
   "metadata": {
    "collapsed": false
   }
  },
  {
   "cell_type": "code",
   "execution_count": 6,
   "outputs": [],
   "source": [
    "def compute_distance_ordinal(attribute_1, attribute_2, rank):\n",
    "    rank_i = 0\n",
    "    rank_j = 0\n",
    "    for k in range(len(rank)):\n",
    "        if attribute_1 == rank[k]:\n",
    "                rank_i = k + 1\n",
    "        elif attribute_2 == rank[k]:\n",
    "                rank_j = k + 1\n",
    "    difference = round((math.fabs(rank_i - rank_j)) / (len(rank) - 1), 2)\n",
    "    return difference"
   ],
   "metadata": {
    "collapsed": false
   }
  },
  {
   "cell_type": "code",
   "execution_count": 237,
   "outputs": [],
   "source": [
    "# computer distance matrix for categorical values\n",
    "def compute_distance_nominal(attribute_1, attribute_2):\n",
    "    if attribute_1 != attribute_2:\n",
    "        difference = 1\n",
    "    else:\n",
    "        difference = 0\n",
    "    return difference"
   ],
   "metadata": {
    "collapsed": false
   }
  },
  {
   "cell_type": "code",
   "execution_count": 238,
   "outputs": [],
   "source": [
    "def compute_distance_final(distance_1, distance_2, distance_3, distance_4, distance_5):\n",
    "    distance_final = round((distance_1 + distance_2 + distance_3 + distance_4 + distance_5) * (1 / 5), 2)\n",
    "    return distance_final"
   ],
   "metadata": {
    "collapsed": false
   }
  },
  {
   "cell_type": "code",
   "execution_count": 239,
   "outputs": [
    {
     "name": "stdout",
     "output_type": "stream",
     "text": [
      "The distance is  1\n"
     ]
    }
   ],
   "source": [
    "dataset_choice = int(input(\"Do you want to use Music Data (Enter '1') or Crime Data (Enter '2'): \"))\n",
    "\n",
    "if dataset_choice == 1:\n",
    "    rank_order = [\"FALSE\", \"TRUE\"]\n",
    "\n",
    "    field_choice = int(input(\"You chose the music dataset. Which field would you like to check the difference? \\nEnter: \\n1 for artists. \\n2 for track_name \\n3 for popularity \\n 4 for duration \\n 5 for explicit \\n6 for all\"))\n",
    "\n",
    "    attribute_choice_1 = int(input(\"What is the first attribute to compare? Enter 0 - 99\"))\n",
    "    attribute_choice_2 = int(input(\"What is the second attribute to compare? Enter 0 - 99\"))\n",
    "\n",
    "    if attribute_choice_1 == attribute_choice_2:\n",
    "        print(\"The Distance is 0!\")\n",
    "    elif field_choice == 1:\n",
    "        distance = compute_distance_nominal(music_df['artists'][attribute_choice_1],music_df['artists'][attribute_choice_2])\n",
    "        print(\"The distance is \", distance)\n",
    "    elif field_choice == 2:\n",
    "        distance = compute_distance_nominal(music_df['track_name'][attribute_choice_1],music_df['track_name'][attribute_choice_2])\n",
    "        print(\"The distance is \", distance)\n",
    "    elif field_choice == 3:\n",
    "        normalize_attribute_1 = normalize_data(music_df['popularity'][attribute_choice_1], min(music_df['popularity']), max(music_df['popularity']))\n",
    "        normalize_attribute_2 = normalize_data(music_df['popularity'][attribute_choice_2], min(music_df['popularity']), max(music_df['popularity']))\n",
    "        distance = compute_distance_numerical(normalize_attribute_1, normalize_attribute_2)\n",
    "        print(\"The distance is \", distance)\n",
    "    elif field_choice == 4:\n",
    "        normalize_attribute_1 = normalize_data(music_df['duration (ms)'][attribute_choice_1], min(music_df['duration (ms)']), max(music_df['duration (ms)']))\n",
    "        normalize_attribute_2 = normalize_data(music_df['duration (ms)'][attribute_choice_2], min(music_df['duration (ms)']), max(music_df['duration (ms)']))\n",
    "        distance = compute_distance_numerical(normalize_attribute_1, normalize_attribute_2)\n",
    "        print(\"The distance is \", distance)\n",
    "    elif field_choice == 5:\n",
    "        distance = compute_distance_ordinal(music_df['explicit'][attribute_choice_1],music_df['explicit'][attribute_choice_2], rank_order)\n",
    "        print(\"The distance is \", distance)\n",
    "    else:\n",
    "        normalize_popularity_attribute_1 = normalize_data(music_df['popularity'][attribute_choice_1], min(music_df['popularity']), max(music_df['popularity']))\n",
    "        normalize_popularity_attribute_2 = normalize_data(music_df['popularity'][attribute_choice_2], min(music_df['popularity']), max(music_df['popularity']))\n",
    "        normalize_duration_attribute_1 = normalize_data(music_df['duration (ms)'][attribute_choice_1], min(music_df['duration (ms)']), max(music_df['duration (ms)']))\n",
    "        normalize_duration_attribute_2 = normalize_data(music_df['duration (ms)'][attribute_choice_2], min(music_df['duration (ms)']), max(music_df['duration (ms)']))\n",
    "\n",
    "        artists_distance = compute_distance_nominal(music_df['artists'][attribute_choice_1],music_df['artists'][attribute_choice_2])\n",
    "        track_name_distance = compute_distance_nominal(music_df['track_name'][attribute_choice_1],music_df['track_name'][attribute_choice_2])\n",
    "        popularity_distance = compute_distance_numerical(normalize_popularity_attribute_1,normalize_popularity_attribute_2)\n",
    "        duration_distance = compute_distance_numerical(normalize_duration_attribute_1,normalize_duration_attribute_2)\n",
    "        explicit_distance = compute_distance_ordinal(music_df['explicit'][attribute_choice_1],music_df['explicit'][attribute_choice_2], rank_order)\n",
    "        final_distance = compute_distance_final(artists_distance, track_name_distance, popularity_distance, duration_distance, explicit_distance)\n",
    "        print(\"The distance of all fields is: \", final_distance)\n",
    "else:\n",
    "    rank_order = [\"No\", \"Yes\"]\n",
    "\n",
    "    time = convert_time_list_to_seconds_list(crime_df['Time of Stop'])\n",
    "    max_time = max(time)\n",
    "    min_time = min(time)\n",
    "\n",
    "    field_choice = int(input(\"You chose the crime dataset. Which field would you like to check the difference? \\nEnter: \\n1 for description. \\n2 for violation_type \\n3 for vehicle_year \\n 4 for time_of_stop \\n 5 for accident \\n6 for all\"))\n",
    "\n",
    "    attribute_choice_1 = int(input(\"What is the first attribute to compare? Enter 0 - 99\"))\n",
    "    attribute_choice_2 = int(input(\"What is the second attribute to compare? Enter 0 - 99\"))\n",
    "\n",
    "    if attribute_choice_1 == attribute_choice_2:\n",
    "        print(\"The Distance is 0!\")\n",
    "    elif field_choice == 1:\n",
    "        distance = compute_distance_nominal(crime_df['Description'][attribute_choice_1],crime_df['Description'][attribute_choice_2])\n",
    "        print(\"The distance is \", distance)\n",
    "    elif field_choice == 2:\n",
    "        distance = compute_distance_nominal(crime_df['Violation Type'][attribute_choice_1],crime_df['Violation Type'][attribute_choice_2])\n",
    "        print(\"The distance is \", distance)\n",
    "    elif field_choice == 3:\n",
    "        normalize_attribute_1 = normalize_data(crime_df['Vehicle Year'][attribute_choice_1], min(crime_df['Vehicle Year']), max(crime_df['Vehicle Year']))\n",
    "        normalize_attribute_2 = normalize_data(crime_df['Vehicle Year'][attribute_choice_2], min(crime_df['Vehicle Year']), max(crime_df['Vehicle Year']))\n",
    "        distance = compute_distance_numerical(normalize_attribute_1, normalize_attribute_2)\n",
    "        print(\"The distance is \", distance)\n",
    "    elif field_choice == 4:\n",
    "        time_int_1 = convert_time_to_seconds(crime_df['Time of Stop'][attribute_choice_1])\n",
    "        time_int_2 = convert_time_to_seconds(crime_df['Time of Stop'][attribute_choice_2])\n",
    "\n",
    "        normalize_attribute_1 = normalize_data(time_int_1,  min_time , max_time)\n",
    "        normalize_attribute_2 = normalize_data(time_int_2,  min_time , max_time)\n",
    "\n",
    "        distance = compute_distance_numerical(normalize_attribute_1, normalize_attribute_2)\n",
    "        print(\"The distance is \", distance)\n",
    "    elif field_choice == 5:\n",
    "        distance = compute_distance_ordinal(crime_df['Accident'][attribute_choice_1],crime_df['Accident'][attribute_choice_2], rank_order)\n",
    "        print(\"The distance is \", distance)\n",
    "    else:\n",
    "        time_int_1 = convert_time_to_seconds(crime_df['Time of Stop'][attribute_choice_1])\n",
    "        time_int_2 = convert_time_to_seconds(crime_df['Time of Stop'][attribute_choice_2])\n",
    "\n",
    "        normalize_year_attribute_1 = normalize_data(crime_df['Vehicle Year'][attribute_choice_1], min(crime_df['Vehicle Year']), max(crime_df['Vehicle Year']))\n",
    "        normalize_year_attribute_2 = normalize_data(crime_df['Vehicle Year'][attribute_choice_2], min(crime_df['Vehicle Year']), max(crime_df['Vehicle Year']))\n",
    "\n",
    "        normalize_time_attribute_1 = normalize_data(time_int_1, min_time , max_time)\n",
    "        normalize_time_attribute_2 = normalize_data(time_int_2,  min_time , max_time)\n",
    "\n",
    "        description_distance = compute_distance_nominal(crime_df['Description'][attribute_choice_1],crime_df['Description'][attribute_choice_2])\n",
    "        violation_distance = compute_distance_nominal(crime_df['Violation Type'][attribute_choice_1],crime_df['Violation Type'][attribute_choice_2])\n",
    "        year_distance = compute_distance_numerical(normalize_year_attribute_1, normalize_year_attribute_2)\n",
    "        time_distance = compute_distance_numerical(normalize_time_attribute_1, normalize_time_attribute_2)\n",
    "        accident_distance = compute_distance_ordinal(crime_df['Accident'][attribute_choice_1],crime_df['Accident'][attribute_choice_2], rank_order)\n",
    "        final_distance = compute_distance_final(description_distance, violation_distance, year_distance, time_distance, accident_distance)\n",
    "        print(\"The distance of all fields is: \", final_distance)"
   ],
   "metadata": {
    "collapsed": false
   }
  }
 ],
 "metadata": {
  "kernelspec": {
   "display_name": "Python 3",
   "language": "python",
   "name": "python3"
  },
  "language_info": {
   "codemirror_mode": {
    "name": "ipython",
    "version": 2
   },
   "file_extension": ".py",
   "mimetype": "text/x-python",
   "name": "python",
   "nbconvert_exporter": "python",
   "pygments_lexer": "ipython2",
   "version": "2.7.6"
  }
 },
 "nbformat": 4,
 "nbformat_minor": 0
}
