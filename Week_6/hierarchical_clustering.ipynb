{
 "cells": [
  {
   "cell_type": "code",
   "execution_count": 1,
   "metadata": {
    "collapsed": true
   },
   "outputs": [],
   "source": [
    "points = [[75,47],[57,11],[58,3],[24,65],[15,46],[47,46],[69,55],[46,90]]"
   ]
  },
  {
   "cell_type": "code",
   "execution_count": 2,
   "outputs": [],
   "source": [
    "#used for visualization\n",
    "def get_X(P):\n",
    "    r = []\n",
    "    for x in P:\n",
    "        r.append(x[0])\n",
    "    return r\n",
    "def get_Y(P):\n",
    "    r = []\n",
    "    for x in P:\n",
    "        r.append(x[1])\n",
    "    return r"
   ],
   "metadata": {
    "collapsed": false
   }
  },
  {
   "cell_type": "code",
   "execution_count": 11,
   "outputs": [
    {
     "data": {
      "text/plain": "<matplotlib.collections.PathCollection at 0x153dc81b2b0>"
     },
     "execution_count": 11,
     "metadata": {},
     "output_type": "execute_result"
    },
    {
     "data": {
      "text/plain": "<Figure size 640x480 with 1 Axes>",
      "image/png": "[encoded data removed]"
     },
     "metadata": {},
     "output_type": "display_data"
    }
   ],
   "source": [
    "#They look like?\n",
    "import matplotlib.pyplot as plot\n",
    "%matplotlib inline\n",
    "plot.ylim([0,105])\n",
    "plot.xlim([0,105])\n",
    "X = get_X(points)\n",
    "Y = get_Y(points)\n",
    "plot.scatter(X, Y)"
   ],
   "metadata": {
    "collapsed": false
   }
  },
  {
   "cell_type": "code",
   "execution_count": 12,
   "outputs": [],
   "source": [
    "cluster1 = points[0]\n",
    "cluster2 = points[1]\n",
    "cluster3 = points[2]\n",
    "cluster4 = points[3]\n",
    "cluster5 = points[4]\n",
    "cluster6 = points[5]\n",
    "cluster7 = points[6]\n",
    "cluster8 = points[7]"
   ],
   "metadata": {
    "collapsed": false
   }
  },
  {
   "cell_type": "code",
   "execution_count": 13,
   "outputs": [
    {
     "data": {
      "text/plain": "<matplotlib.collections.PathCollection at 0x153dcb4b3d0>"
     },
     "execution_count": 13,
     "metadata": {},
     "output_type": "execute_result"
    },
    {
     "data": {
      "text/plain": "<Figure size 640x480 with 1 Axes>",
      "image/png": "[encoded data removed]"
     },
     "metadata": {},
     "output_type": "display_data"
    }
   ],
   "source": [
    "X = get_X(points)\n",
    "Y = get_Y(points)\n",
    "plot.ylim([0,105])\n",
    "plot.xlim([0,105])\n",
    "plot.scatter(X, Y)\n",
    "X = get_X([cluster1])\n",
    "Y = get_Y([cluster1])\n",
    "plot.ylim([0,105])\n",
    "plot.xlim([0,105])\n",
    "plot.scatter(X, Y, color=\"green\", marker=\"^\")\n",
    "X = get_X([cluster2])\n",
    "Y = get_Y([cluster2])\n",
    "plot.ylim([0,105])\n",
    "plot.xlim([0,105])\n",
    "plot.scatter(X, Y, color=\"red\", marker=\"^\")\n",
    "X = get_X([cluster3])\n",
    "Y = get_Y([cluster3])\n",
    "plot.ylim([0,105])\n",
    "plot.xlim([0,105])\n",
    "plot.scatter(X, Y, color=\"blue\", marker=\"^\")\n",
    "X = get_X([cluster4])\n",
    "Y = get_Y([cluster4])\n",
    "plot.ylim([0,105])\n",
    "plot.xlim([0,105])\n",
    "plot.scatter(X, Y, color=\"yellow\", marker=\"^\")\n",
    "X = get_X([cluster5])\n",
    "Y = get_Y([cluster5])\n",
    "plot.ylim([0,105])\n",
    "plot.xlim([0,105])\n",
    "plot.scatter(X, Y, color=\"purple\", marker=\"^\")\n",
    "X = get_X([cluster6])\n",
    "Y = get_Y([cluster6])\n",
    "plot.ylim([0,105])\n",
    "plot.xlim([0,105])\n",
    "plot.scatter(X, Y, color=\"orange\", marker=\"^\")\n",
    "X = get_X([cluster7])\n",
    "Y = get_Y([cluster7])\n",
    "plot.ylim([0,105])\n",
    "plot.xlim([0,105])\n",
    "plot.scatter(X, Y, color=\"white\", marker=\"^\")\n",
    "X = get_X([cluster8])\n",
    "Y = get_Y([cluster8])\n",
    "plot.ylim([0,105])\n",
    "plot.xlim([0,105])\n",
    "plot.scatter(X, Y, color=\"grey\", marker=\"^\")"
   ],
   "metadata": {
    "collapsed": false
   }
  },
  {
   "cell_type": "code",
   "execution_count": 14,
   "outputs": [],
   "source": [
    "#Manhattan distance is used.\n",
    "import math\n",
    "def distance(p, q):\n",
    "    return int(math.fabs(p[0] - q[0]) + math.fabs(p[1]-q[1]))"
   ],
   "metadata": {
    "collapsed": false
   }
  },
  {
   "cell_type": "code",
   "execution_count": 16,
   "outputs": [
    {
     "name": "stdout",
     "output_type": "stream",
     "text": [
      "54\n",
      "61\n",
      "69\n",
      "61\n",
      "29\n",
      "14\n",
      "72\n"
     ]
    }
   ],
   "source": [
    "print(distance(cluster1,cluster2))\n",
    "print(distance(cluster1,cluster3))\n",
    "print(distance(cluster1,cluster4))\n",
    "print(distance(cluster1,cluster5))\n",
    "print(distance(cluster1,cluster6))\n",
    "print(distance(cluster1,cluster7))\n",
    "print(distance(cluster1,cluster8))"
   ],
   "metadata": {
    "collapsed": false
   }
  },
  {
   "cell_type": "code",
   "execution_count": 19,
   "outputs": [
    {
     "name": "stdout",
     "output_type": "stream",
     "text": [
      "9\n",
      "87\n",
      "77\n",
      "45\n",
      "56\n",
      "90\n"
     ]
    }
   ],
   "source": [
    "print(distance(cluster2,cluster3))\n",
    "print(distance(cluster2,cluster4))\n",
    "print(distance(cluster2,cluster5))\n",
    "print(distance(cluster2,cluster6))\n",
    "print(distance(cluster2,cluster7))\n",
    "print(distance(cluster2,cluster8))"
   ],
   "metadata": {
    "collapsed": false
   }
  },
  {
   "cell_type": "code",
   "execution_count": 20,
   "outputs": [
    {
     "name": "stdout",
     "output_type": "stream",
     "text": [
      "96\n",
      "86\n",
      "54\n",
      "63\n",
      "99\n"
     ]
    }
   ],
   "source": [
    "print(distance(cluster3,cluster4))\n",
    "print(distance(cluster3,cluster5))\n",
    "print(distance(cluster3,cluster6))\n",
    "print(distance(cluster3,cluster7))\n",
    "print(distance(cluster3,cluster8))"
   ],
   "metadata": {
    "collapsed": false
   }
  },
  {
   "cell_type": "code",
   "execution_count": 21,
   "outputs": [
    {
     "name": "stdout",
     "output_type": "stream",
     "text": [
      "28\n",
      "42\n",
      "55\n",
      "47\n"
     ]
    }
   ],
   "source": [
    "print(distance(cluster4,cluster5))\n",
    "print(distance(cluster4,cluster6))\n",
    "print(distance(cluster4,cluster7))\n",
    "print(distance(cluster4,cluster8))"
   ],
   "metadata": {
    "collapsed": false
   }
  },
  {
   "cell_type": "code",
   "execution_count": 24,
   "outputs": [
    {
     "name": "stdout",
     "output_type": "stream",
     "text": [
      "32\n",
      "63\n",
      "75\n"
     ]
    }
   ],
   "source": [
    "print(distance(cluster5,cluster6))\n",
    "print(distance(cluster5,cluster7))\n",
    "print(distance(cluster5,cluster8))"
   ],
   "metadata": {
    "collapsed": false
   }
  },
  {
   "cell_type": "code",
   "execution_count": 25,
   "outputs": [
    {
     "name": "stdout",
     "output_type": "stream",
     "text": [
      "31\n",
      "45\n"
     ]
    }
   ],
   "source": [
    "print(distance(cluster6,cluster7))\n",
    "print(distance(cluster6,cluster8))"
   ],
   "metadata": {
    "collapsed": false
   }
  },
  {
   "cell_type": "code",
   "execution_count": 26,
   "outputs": [
    {
     "name": "stdout",
     "output_type": "stream",
     "text": [
      "58\n"
     ]
    }
   ],
   "source": [
    "print(distance(cluster7,cluster8))"
   ],
   "metadata": {
    "collapsed": false
   }
  },
  {
   "cell_type": "code",
   "execution_count": 39,
   "outputs": [],
   "source": [
    "cluster2U3 = [57,7]"
   ],
   "metadata": {
    "collapsed": false
   }
  },
  {
   "cell_type": "code",
   "execution_count": 40,
   "outputs": [
    {
     "data": {
      "text/plain": "<matplotlib.collections.PathCollection at 0x153e147b520>"
     },
     "execution_count": 40,
     "metadata": {},
     "output_type": "execute_result"
    },
    {
     "data": {
      "text/plain": "<Figure size 640x480 with 1 Axes>",
      "image/png": "[encoded data removed]"
     },
     "metadata": {},
     "output_type": "display_data"
    }
   ],
   "source": [
    "X = get_X(points)\n",
    "Y = get_Y(points)\n",
    "plot.ylim([0,105])\n",
    "plot.xlim([0,105])\n",
    "plot.scatter(X, Y)\n",
    "X = get_X([cluster1])\n",
    "Y = get_Y([cluster1])\n",
    "plot.ylim([0,105])\n",
    "plot.xlim([0,105])\n",
    "plot.scatter(X, Y, color=\"green\", marker=\"^\")\n",
    "X = cluster2U3[0]\n",
    "Y = cluster2U3[1]\n",
    "X2 = get_X([cluster2])\n",
    "Y2 = get_Y([cluster2])\n",
    "X3 = get_X([cluster3])\n",
    "Y3 = get_Y([cluster3])\n",
    "plot.ylim([0,105])\n",
    "plot.xlim([0,105])\n",
    "plot.scatter(X, Y, color=\"red\", marker=\"1\")\n",
    "plot.scatter(X2, Y2, color=\"red\", marker=\"1\")\n",
    "plot.scatter(X3, Y3, color=\"red\", marker=\"1\")\n",
    "X = get_X([cluster4])\n",
    "Y = get_Y([cluster4])\n",
    "plot.ylim([0,105])\n",
    "plot.xlim([0,105])\n",
    "plot.scatter(X, Y, color=\"yellow\", marker=\"^\")\n",
    "X = get_X([cluster5])\n",
    "Y = get_Y([cluster5])\n",
    "plot.ylim([0,105])\n",
    "plot.xlim([0,105])\n",
    "plot.scatter(X, Y, color=\"purple\", marker=\"^\")\n",
    "X = get_X([cluster6])\n",
    "Y = get_Y([cluster6])\n",
    "plot.ylim([0,105])\n",
    "plot.xlim([0,105])\n",
    "plot.scatter(X, Y, color=\"orange\", marker=\"^\")\n",
    "X = get_X([cluster7])\n",
    "Y = get_Y([cluster7])\n",
    "plot.ylim([0,105])\n",
    "plot.xlim([0,105])\n",
    "plot.scatter(X, Y, color=\"white\", marker=\"^\")\n",
    "X = get_X([cluster8])\n",
    "Y = get_Y([cluster8])\n",
    "plot.ylim([0,105])\n",
    "plot.xlim([0,105])\n",
    "plot.scatter(X, Y, color=\"grey\", marker=\"^\")"
   ],
   "metadata": {
    "collapsed": false
   }
  },
  {
   "cell_type": "code",
   "execution_count": 41,
   "outputs": [
    {
     "name": "stdout",
     "output_type": "stream",
     "text": [
      "58\n",
      "69\n",
      "61\n",
      "29\n",
      "14\n",
      "72\n"
     ]
    }
   ],
   "source": [
    "print(distance(cluster1,cluster2U3))\n",
    "print(distance(cluster1,cluster4))\n",
    "print(distance(cluster1,cluster5))\n",
    "print(distance(cluster1,cluster6))\n",
    "print(distance(cluster1,cluster7))\n",
    "print(distance(cluster1,cluster8))"
   ],
   "metadata": {
    "collapsed": false
   }
  },
  {
   "cell_type": "code",
   "execution_count": 42,
   "outputs": [
    {
     "name": "stdout",
     "output_type": "stream",
     "text": [
      "91\n",
      "81\n",
      "49\n",
      "60\n",
      "94\n"
     ]
    }
   ],
   "source": [
    "print(distance(cluster2U3,cluster4))\n",
    "print(distance(cluster2U3,cluster5))\n",
    "print(distance(cluster2U3,cluster6))\n",
    "print(distance(cluster2U3,cluster7))\n",
    "print(distance(cluster2U3,cluster8))"
   ],
   "metadata": {
    "collapsed": false
   }
  },
  {
   "cell_type": "code",
   "execution_count": 43,
   "outputs": [
    {
     "name": "stdout",
     "output_type": "stream",
     "text": [
      "28\n",
      "42\n",
      "55\n",
      "47\n"
     ]
    }
   ],
   "source": [
    "print(distance(cluster4,cluster5))\n",
    "print(distance(cluster4,cluster6))\n",
    "print(distance(cluster4,cluster7))\n",
    "print(distance(cluster4,cluster8))"
   ],
   "metadata": {
    "collapsed": false
   }
  },
  {
   "cell_type": "code",
   "execution_count": 44,
   "outputs": [
    {
     "name": "stdout",
     "output_type": "stream",
     "text": [
      "32\n",
      "63\n",
      "75\n"
     ]
    }
   ],
   "source": [
    "print(distance(cluster5,cluster6))\n",
    "print(distance(cluster5,cluster7))\n",
    "print(distance(cluster5,cluster8))"
   ],
   "metadata": {
    "collapsed": false
   }
  },
  {
   "cell_type": "code",
   "execution_count": 46,
   "outputs": [
    {
     "name": "stdout",
     "output_type": "stream",
     "text": [
      "31\n",
      "45\n"
     ]
    }
   ],
   "source": [
    "print(distance(cluster6,cluster7))\n",
    "print(distance(cluster6,cluster8))"
   ],
   "metadata": {
    "collapsed": false
   }
  },
  {
   "cell_type": "code",
   "execution_count": 47,
   "outputs": [
    {
     "name": "stdout",
     "output_type": "stream",
     "text": [
      "58\n"
     ]
    }
   ],
   "source": [
    "print(distance(cluster7,cluster8))"
   ],
   "metadata": {
    "collapsed": false
   }
  },
  {
   "cell_type": "code",
   "execution_count": 48,
   "outputs": [],
   "source": [
    "cluster1U7 = [72, 51]"
   ],
   "metadata": {
    "collapsed": false
   }
  },
  {
   "cell_type": "code",
   "execution_count": 49,
   "outputs": [
    {
     "data": {
      "text/plain": "<matplotlib.collections.PathCollection at 0x153dec74040>"
     },
     "execution_count": 49,
     "metadata": {},
     "output_type": "execute_result"
    },
    {
     "data": {
      "text/plain": "<Figure size 640x480 with 1 Axes>",
      "image/png": "[encoded data removed]"
     },
     "metadata": {},
     "output_type": "display_data"
    }
   ],
   "source": [
    "X = get_X(points)\n",
    "Y = get_Y(points)\n",
    "plot.ylim([0,105])\n",
    "plot.xlim([0,105])\n",
    "plot.scatter(X, Y)\n",
    "X = cluster1U7[0]\n",
    "Y = cluster1U7[1]\n",
    "X1 = get_X([cluster1])\n",
    "Y1 = get_Y([cluster1])\n",
    "X7 = get_X([cluster7])\n",
    "Y7 = get_Y([cluster7])\n",
    "plot.ylim([0,105])\n",
    "plot.xlim([0,105])\n",
    "plot.scatter(X, Y, color=\"green\", marker=\"2\")\n",
    "plot.scatter(X1, Y1, color=\"green\", marker=\"2\")\n",
    "plot.scatter(X7, Y7, color=\"green\", marker=\"2\")\n",
    "X = cluster2U3[0]\n",
    "Y = cluster2U3[1]\n",
    "X2 = get_X([cluster2])\n",
    "Y2 = get_Y([cluster2])\n",
    "X3 = get_X([cluster3])\n",
    "Y3 = get_Y([cluster3])\n",
    "plot.ylim([0,105])\n",
    "plot.xlim([0,105])\n",
    "plot.scatter(X, Y, color=\"red\", marker=\"1\")\n",
    "plot.scatter(X2, Y2, color=\"red\", marker=\"1\")\n",
    "plot.scatter(X3, Y3, color=\"red\", marker=\"1\")\n",
    "X = get_X([cluster4])\n",
    "Y = get_Y([cluster4])\n",
    "plot.ylim([0,105])\n",
    "plot.xlim([0,105])\n",
    "plot.scatter(X, Y, color=\"yellow\", marker=\"^\")\n",
    "X = get_X([cluster5])\n",
    "Y = get_Y([cluster5])\n",
    "plot.ylim([0,105])\n",
    "plot.xlim([0,105])\n",
    "plot.scatter(X, Y, color=\"purple\", marker=\"^\")\n",
    "X = get_X([cluster6])\n",
    "Y = get_Y([cluster6])\n",
    "plot.ylim([0,105])\n",
    "plot.xlim([0,105])\n",
    "plot.scatter(X, Y, color=\"orange\", marker=\"^\")\n",
    "X = get_X([cluster8])\n",
    "Y = get_Y([cluster8])\n",
    "plot.ylim([0,105])\n",
    "plot.xlim([0,105])\n",
    "plot.scatter(X, Y, color=\"grey\", marker=\"^\")"
   ],
   "metadata": {
    "collapsed": false
   }
  },
  {
   "cell_type": "code",
   "execution_count": 50,
   "outputs": [
    {
     "name": "stdout",
     "output_type": "stream",
     "text": [
      "59\n",
      "62\n",
      "62\n",
      "30\n",
      "65\n"
     ]
    }
   ],
   "source": [
    "print(distance(cluster1U7,cluster2U3))\n",
    "print(distance(cluster1U7,cluster4))\n",
    "print(distance(cluster1U7,cluster5))\n",
    "print(distance(cluster1U7,cluster6))\n",
    "print(distance(cluster1U7,cluster8))"
   ],
   "metadata": {
    "collapsed": false
   }
  },
  {
   "cell_type": "code",
   "execution_count": 51,
   "outputs": [
    {
     "name": "stdout",
     "output_type": "stream",
     "text": [
      "91\n",
      "81\n",
      "49\n",
      "94\n"
     ]
    }
   ],
   "source": [
    "print(distance(cluster2U3,cluster4))\n",
    "print(distance(cluster2U3,cluster5))\n",
    "print(distance(cluster2U3,cluster6))\n",
    "print(distance(cluster2U3,cluster8))"
   ],
   "metadata": {
    "collapsed": false
   }
  },
  {
   "cell_type": "code",
   "execution_count": 52,
   "outputs": [
    {
     "name": "stdout",
     "output_type": "stream",
     "text": [
      "28\n",
      "42\n",
      "47\n"
     ]
    }
   ],
   "source": [
    "print(distance(cluster4,cluster5))\n",
    "print(distance(cluster4,cluster6))\n",
    "print(distance(cluster4,cluster8))"
   ],
   "metadata": {
    "collapsed": false
   }
  },
  {
   "cell_type": "code",
   "execution_count": 54,
   "outputs": [
    {
     "name": "stdout",
     "output_type": "stream",
     "text": [
      "32\n",
      "75\n"
     ]
    }
   ],
   "source": [
    "print(distance(cluster5,cluster6))\n",
    "print(distance(cluster5,cluster8))"
   ],
   "metadata": {
    "collapsed": false
   }
  },
  {
   "cell_type": "code",
   "execution_count": 55,
   "outputs": [
    {
     "name": "stdout",
     "output_type": "stream",
     "text": [
      "45\n"
     ]
    }
   ],
   "source": [
    "print(distance(cluster6,cluster8))"
   ],
   "metadata": {
    "collapsed": false
   }
  },
  {
   "cell_type": "code",
   "execution_count": 56,
   "outputs": [],
   "source": [
    "cluster4U5 = [19, 54]"
   ],
   "metadata": {
    "collapsed": false
   }
  },
  {
   "cell_type": "code",
   "execution_count": 57,
   "outputs": [
    {
     "data": {
      "text/plain": "<matplotlib.collections.PathCollection at 0x153dcd33b20>"
     },
     "execution_count": 57,
     "metadata": {},
     "output_type": "execute_result"
    },
    {
     "data": {
      "text/plain": "<Figure size 640x480 with 1 Axes>",
      "image/png": "[encoded data removed]"
     },
     "metadata": {},
     "output_type": "display_data"
    }
   ],
   "source": [
    "X = get_X(points)\n",
    "Y = get_Y(points)\n",
    "plot.ylim([0,105])\n",
    "plot.xlim([0,105])\n",
    "plot.scatter(X, Y)\n",
    "X = cluster1U7[0]\n",
    "Y = cluster1U7[1]\n",
    "X1 = get_X([cluster1])\n",
    "Y1 = get_Y([cluster1])\n",
    "X7 = get_X([cluster7])\n",
    "Y7 = get_Y([cluster7])\n",
    "plot.ylim([0,105])\n",
    "plot.xlim([0,105])\n",
    "plot.scatter(X, Y, color=\"green\", marker=\"2\")\n",
    "plot.scatter(X1, Y1, color=\"green\", marker=\"2\")\n",
    "plot.scatter(X7, Y7, color=\"green\", marker=\"2\")\n",
    "X = cluster2U3[0]\n",
    "Y = cluster2U3[1]\n",
    "X2 = get_X([cluster2])\n",
    "Y2 = get_Y([cluster2])\n",
    "X3 = get_X([cluster3])\n",
    "Y3 = get_Y([cluster3])\n",
    "plot.ylim([0,105])\n",
    "plot.xlim([0,105])\n",
    "plot.scatter(X, Y, color=\"red\", marker=\"1\")\n",
    "plot.scatter(X2, Y2, color=\"red\", marker=\"1\")\n",
    "plot.scatter(X3, Y3, color=\"red\", marker=\"1\")\n",
    "X = cluster4U5[0]\n",
    "Y = cluster4U5[1]\n",
    "X4 = get_X([cluster4])\n",
    "Y4 = get_Y([cluster4])\n",
    "X5 = get_X([cluster5])\n",
    "Y5 = get_Y([cluster5])\n",
    "plot.ylim([0,105])\n",
    "plot.xlim([0,105])\n",
    "plot.scatter(X, Y, color=\"yellow\", marker=\"4\")\n",
    "plot.scatter(X4, Y4, color=\"yellow\", marker=\"4\")\n",
    "plot.scatter(X5, Y5, color=\"yellow\", marker=\"4\")\n",
    "X = get_X([cluster6])\n",
    "Y = get_Y([cluster6])\n",
    "plot.ylim([0,105])\n",
    "plot.xlim([0,105])\n",
    "plot.scatter(X, Y, color=\"orange\", marker=\"^\")\n",
    "X = get_X([cluster8])\n",
    "Y = get_Y([cluster8])\n",
    "plot.ylim([0,105])\n",
    "plot.xlim([0,105])\n",
    "plot.scatter(X, Y, color=\"grey\", marker=\"^\")"
   ],
   "metadata": {
    "collapsed": false
   }
  },
  {
   "cell_type": "code",
   "execution_count": 58,
   "outputs": [
    {
     "name": "stdout",
     "output_type": "stream",
     "text": [
      "59\n",
      "56\n",
      "30\n",
      "65\n"
     ]
    }
   ],
   "source": [
    "print(distance(cluster1U7,cluster2U3))\n",
    "print(distance(cluster1U7,cluster4U5))\n",
    "print(distance(cluster1U7,cluster6))\n",
    "print(distance(cluster1U7,cluster8))"
   ],
   "metadata": {
    "collapsed": false
   }
  },
  {
   "cell_type": "code",
   "execution_count": 60,
   "outputs": [
    {
     "name": "stdout",
     "output_type": "stream",
     "text": [
      "85\n",
      "49\n",
      "94\n"
     ]
    }
   ],
   "source": [
    "print(distance(cluster2U3,cluster4U5))\n",
    "print(distance(cluster2U3,cluster6))\n",
    "print(distance(cluster2U3,cluster8))"
   ],
   "metadata": {
    "collapsed": false
   }
  },
  {
   "cell_type": "code",
   "execution_count": 61,
   "outputs": [
    {
     "name": "stdout",
     "output_type": "stream",
     "text": [
      "36\n",
      "63\n"
     ]
    }
   ],
   "source": [
    "print(distance(cluster4U5,cluster6))\n",
    "print(distance(cluster4U5,cluster8))"
   ],
   "metadata": {
    "collapsed": false
   }
  },
  {
   "cell_type": "code",
   "execution_count": 62,
   "outputs": [
    {
     "name": "stdout",
     "output_type": "stream",
     "text": [
      "45\n"
     ]
    }
   ],
   "source": [
    "print(distance(cluster6,cluster8))"
   ],
   "metadata": {
    "collapsed": false
   }
  },
  {
   "cell_type": "code",
   "execution_count": 63,
   "outputs": [],
   "source": [
    "cluster1U7U6 = [60, 48]"
   ],
   "metadata": {
    "collapsed": false
   }
  },
  {
   "cell_type": "code",
   "execution_count": 72,
   "outputs": [
    {
     "data": {
      "text/plain": "<matplotlib.collections.PathCollection at 0x153e1603a30>"
     },
     "execution_count": 72,
     "metadata": {},
     "output_type": "execute_result"
    },
    {
     "data": {
      "text/plain": "<Figure size 640x480 with 1 Axes>",
      "image/png": "[encoded data removed]"
     },
     "metadata": {},
     "output_type": "display_data"
    }
   ],
   "source": [
    "X = get_X(points)\n",
    "Y = get_Y(points)\n",
    "plot.ylim([0,105])\n",
    "plot.xlim([0,105])\n",
    "plot.scatter(X, Y)\n",
    "X176 = cluster1U7U6[0]\n",
    "Y176 = cluster1U7U6[1]\n",
    "X17 = cluster1U7[0]\n",
    "Y17 = cluster1U7[1]\n",
    "X1 = get_X([cluster1])\n",
    "Y1 = get_Y([cluster1])\n",
    "X7 = get_X([cluster7])\n",
    "Y7 = get_Y([cluster7])\n",
    "X6 = get_X([cluster6])\n",
    "Y6 = get_Y([cluster6])\n",
    "plot.ylim([0,105])\n",
    "plot.xlim([0,105])\n",
    "plot.scatter(X176, Y176, color=\"blue\", marker=\"3\")\n",
    "plot.scatter(X17, Y17, color=\"blue\", marker=\"3\")\n",
    "plot.scatter(X1, Y1, color=\"blue\", marker=\"3\")\n",
    "plot.scatter(X7, Y7, color=\"blue\", marker=\"3\")\n",
    "X = cluster2U3[0]\n",
    "Y = cluster2U3[1]\n",
    "X2 = get_X([cluster2])\n",
    "Y2 = get_Y([cluster2])\n",
    "X3 = get_X([cluster3])\n",
    "Y3 = get_Y([cluster3])\n",
    "plot.ylim([0,105])\n",
    "plot.xlim([0,105])\n",
    "plot.scatter(X, Y, color=\"red\", marker=\"1\")\n",
    "plot.scatter(X2, Y2, color=\"red\", marker=\"1\")\n",
    "plot.scatter(X3, Y3, color=\"red\", marker=\"1\")\n",
    "X = cluster4U5[0]\n",
    "Y = cluster4U5[1]\n",
    "X4 = get_X([cluster4])\n",
    "Y4 = get_Y([cluster4])\n",
    "X5 = get_X([cluster5])\n",
    "Y5 = get_Y([cluster5])\n",
    "plot.ylim([0,105])\n",
    "plot.xlim([0,105])\n",
    "plot.scatter(X, Y, color=\"yellow\", marker=\"4\")\n",
    "plot.scatter(X4, Y4, color=\"yellow\", marker=\"4\")\n",
    "plot.scatter(X5, Y5, color=\"yellow\", marker=\"4\")\n",
    "X = get_X([cluster8])\n",
    "Y = get_Y([cluster8])\n",
    "plot.ylim([0,105])\n",
    "plot.xlim([0,105])\n",
    "plot.scatter(X, Y, color=\"grey\", marker=\"^\")"
   ],
   "metadata": {
    "collapsed": false
   }
  },
  {
   "cell_type": "code",
   "execution_count": 68,
   "outputs": [
    {
     "name": "stdout",
     "output_type": "stream",
     "text": [
      "44\n",
      "47\n",
      "56\n"
     ]
    }
   ],
   "source": [
    "print(distance(cluster1U7U6,cluster2U3))\n",
    "print(distance(cluster1U7U6,cluster4U5))\n",
    "print(distance(cluster1U7U6,cluster8))"
   ],
   "metadata": {
    "collapsed": false
   }
  },
  {
   "cell_type": "code",
   "execution_count": 69,
   "outputs": [
    {
     "name": "stdout",
     "output_type": "stream",
     "text": [
      "85\n",
      "94\n"
     ]
    }
   ],
   "source": [
    "print(distance(cluster2U3,cluster4U5))\n",
    "print(distance(cluster2U3,cluster8))"
   ],
   "metadata": {
    "collapsed": false
   }
  },
  {
   "cell_type": "code",
   "execution_count": 70,
   "outputs": [
    {
     "name": "stdout",
     "output_type": "stream",
     "text": [
      "63\n"
     ]
    }
   ],
   "source": [
    "print(distance(cluster4U5,cluster8))"
   ],
   "metadata": {
    "collapsed": false
   }
  },
  {
   "cell_type": "code",
   "execution_count": 71,
   "outputs": [],
   "source": [
    "cluster1U7U6U2U3 = [59, 28]"
   ],
   "metadata": {
    "collapsed": false
   }
  },
  {
   "cell_type": "code",
   "execution_count": 73,
   "outputs": [
    {
     "data": {
      "text/plain": "<matplotlib.collections.PathCollection at 0x153e172fd00>"
     },
     "execution_count": 73,
     "metadata": {},
     "output_type": "execute_result"
    },
    {
     "data": {
      "text/plain": "<Figure size 640x480 with 1 Axes>",
      "image/png": "[encoded data removed]"
     },
     "metadata": {},
     "output_type": "display_data"
    }
   ],
   "source": [
    "X = get_X(points)\n",
    "Y = get_Y(points)\n",
    "plot.ylim([0,105])\n",
    "plot.xlim([0,105])\n",
    "plot.scatter(X, Y)\n",
    "X17623 = cluster1U7U6U2U3[0]\n",
    "Y17623 = cluster1U7U6U2U3[1]\n",
    "X176 = cluster1U7U6[0]\n",
    "Y176 = cluster1U7U6[1]\n",
    "X17 = cluster1U7[0]\n",
    "Y17 = cluster1U7[1]\n",
    "X1 = get_X([cluster1])\n",
    "Y1 = get_Y([cluster1])\n",
    "X7 = get_X([cluster7])\n",
    "Y7 = get_Y([cluster7])\n",
    "X6 = get_X([cluster6])\n",
    "Y6 = get_Y([cluster6])\n",
    "X23 = cluster2U3[0]\n",
    "Y23 = cluster2U3[1]\n",
    "X2 = get_X([cluster2])\n",
    "Y2 = get_Y([cluster2])\n",
    "X3 = get_X([cluster3])\n",
    "Y3 = get_Y([cluster3])\n",
    "plot.ylim([0,105])\n",
    "plot.xlim([0,105])\n",
    "plot.scatter(X17623, Y17623, color=\"blue\", marker=\"3\")\n",
    "plot.scatter(X176, Y176, color=\"blue\", marker=\"3\")\n",
    "plot.scatter(X17, Y17, color=\"blue\", marker=\"3\")\n",
    "plot.scatter(X1, Y1, color=\"blue\", marker=\"3\")\n",
    "plot.scatter(X7, Y7, color=\"blue\", marker=\"3\")\n",
    "plot.scatter(X2, Y2, color=\"blue\", marker=\"3\")\n",
    "plot.scatter(X3, Y3, color=\"blue\", marker=\"3\")\n",
    "X = cluster4U5[0]\n",
    "Y = cluster4U5[1]\n",
    "X4 = get_X([cluster4])\n",
    "Y4 = get_Y([cluster4])\n",
    "X5 = get_X([cluster5])\n",
    "Y5 = get_Y([cluster5])\n",
    "plot.ylim([0,105])\n",
    "plot.xlim([0,105])\n",
    "plot.scatter(X, Y, color=\"yellow\", marker=\"4\")\n",
    "plot.scatter(X4, Y4, color=\"yellow\", marker=\"4\")\n",
    "plot.scatter(X5, Y5, color=\"yellow\", marker=\"4\")\n",
    "X = get_X([cluster8])\n",
    "Y = get_Y([cluster8])\n",
    "plot.ylim([0,105])\n",
    "plot.xlim([0,105])\n",
    "plot.scatter(X, Y, color=\"grey\", marker=\"^\")"
   ],
   "metadata": {
    "collapsed": false
   }
  },
  {
   "cell_type": "code",
   "execution_count": 74,
   "outputs": [
    {
     "name": "stdout",
     "output_type": "stream",
     "text": [
      "66\n",
      "75\n"
     ]
    }
   ],
   "source": [
    "print(distance(cluster1U7U6U2U3,cluster4U5))\n",
    "print(distance(cluster1U7U6U2U3,cluster8))"
   ],
   "metadata": {
    "collapsed": false
   }
  },
  {
   "cell_type": "code",
   "execution_count": 75,
   "outputs": [
    {
     "name": "stdout",
     "output_type": "stream",
     "text": [
      "63\n"
     ]
    }
   ],
   "source": [
    "print(distance(cluster4U5,cluster8))"
   ],
   "metadata": {
    "collapsed": false
   }
  },
  {
   "cell_type": "code",
   "execution_count": 76,
   "outputs": [],
   "source": [
    "cluster4U5U8 = [33,72]"
   ],
   "metadata": {
    "collapsed": false
   }
  },
  {
   "cell_type": "code",
   "execution_count": 77,
   "outputs": [
    {
     "data": {
      "text/plain": "<matplotlib.collections.PathCollection at 0x153e18c00a0>"
     },
     "execution_count": 77,
     "metadata": {},
     "output_type": "execute_result"
    },
    {
     "data": {
      "text/plain": "<Figure size 640x480 with 1 Axes>",
      "image/png": "[encoded data removed]"
     },
     "metadata": {},
     "output_type": "display_data"
    }
   ],
   "source": [
    "X = get_X(points)\n",
    "Y = get_Y(points)\n",
    "plot.ylim([0,105])\n",
    "plot.xlim([0,105])\n",
    "plot.scatter(X, Y)\n",
    "X17623 = cluster1U7U6U2U3[0]\n",
    "Y17623 = cluster1U7U6U2U3[1]\n",
    "X176 = cluster1U7U6[0]\n",
    "Y176 = cluster1U7U6[1]\n",
    "X17 = cluster1U7[0]\n",
    "Y17 = cluster1U7[1]\n",
    "X1 = get_X([cluster1])\n",
    "Y1 = get_Y([cluster1])\n",
    "X7 = get_X([cluster7])\n",
    "Y7 = get_Y([cluster7])\n",
    "X6 = get_X([cluster6])\n",
    "Y6 = get_Y([cluster6])\n",
    "X23 = cluster2U3[0]\n",
    "Y23 = cluster2U3[1]\n",
    "X2 = get_X([cluster2])\n",
    "Y2 = get_Y([cluster2])\n",
    "X3 = get_X([cluster3])\n",
    "Y3 = get_Y([cluster3])\n",
    "plot.ylim([0,105])\n",
    "plot.xlim([0,105])\n",
    "plot.scatter(X17623, Y17623, color=\"blue\", marker=\"3\")\n",
    "plot.scatter(X176, Y176, color=\"blue\", marker=\"3\")\n",
    "plot.scatter(X17, Y17, color=\"blue\", marker=\"3\")\n",
    "plot.scatter(X1, Y1, color=\"blue\", marker=\"3\")\n",
    "plot.scatter(X7, Y7, color=\"blue\", marker=\"3\")\n",
    "plot.scatter(X2, Y2, color=\"blue\", marker=\"3\")\n",
    "plot.scatter(X3, Y3, color=\"blue\", marker=\"3\")\n",
    "X45 = cluster4U5[0]\n",
    "Y45 = cluster4U5[1]\n",
    "X458 = cluster4U5U8[0]\n",
    "Y458 = cluster4U5U8[1]\n",
    "X4 = get_X([cluster4])\n",
    "Y4 = get_Y([cluster4])\n",
    "X5 = get_X([cluster5])\n",
    "Y5 = get_Y([cluster5])\n",
    "X8 = get_X([cluster8])\n",
    "Y8 = get_Y([cluster8])\n",
    "plot.ylim([0,105])\n",
    "plot.xlim([0,105])\n",
    "plot.scatter(X458, Y458, color=\"yellow\", marker=\"4\")\n",
    "plot.scatter(X45, Y45, color=\"yellow\", marker=\"4\")\n",
    "plot.scatter(X4, Y4, color=\"yellow\", marker=\"4\")\n",
    "plot.scatter(X5, Y5, color=\"yellow\", marker=\"4\")\n",
    "plot.scatter(X8, Y8, color=\"yellow\", marker=\"4\")"
   ],
   "metadata": {
    "collapsed": false
   }
  },
  {
   "cell_type": "code",
   "execution_count": 78,
   "outputs": [
    {
     "name": "stdout",
     "output_type": "stream",
     "text": [
      "70\n"
     ]
    }
   ],
   "source": [
    "print(distance(cluster1U7U6U2U3,cluster4U5U8))"
   ],
   "metadata": {
    "collapsed": false
   }
  },
  {
   "cell_type": "code",
   "execution_count": 79,
   "outputs": [
    {
     "data": {
      "text/plain": "<matplotlib.collections.PathCollection at 0x153e189bb80>"
     },
     "execution_count": 79,
     "metadata": {},
     "output_type": "execute_result"
    },
    {
     "data": {
      "text/plain": "<Figure size 640x480 with 1 Axes>",
      "image/png": "[encoded data removed]"
     },
     "metadata": {},
     "output_type": "display_data"
    }
   ],
   "source": [
    "X = get_X(points)\n",
    "Y = get_Y(points)\n",
    "plot.ylim([0,105])\n",
    "plot.xlim([0,105])\n",
    "plot.scatter(X, Y)\n",
    "X17623 = cluster1U7U6U2U3[0]\n",
    "Y17623 = cluster1U7U6U2U3[1]\n",
    "X176 = cluster1U7U6[0]\n",
    "Y176 = cluster1U7U6[1]\n",
    "X17 = cluster1U7[0]\n",
    "Y17 = cluster1U7[1]\n",
    "X1 = get_X([cluster1])\n",
    "Y1 = get_Y([cluster1])\n",
    "X7 = get_X([cluster7])\n",
    "Y7 = get_Y([cluster7])\n",
    "X6 = get_X([cluster6])\n",
    "Y6 = get_Y([cluster6])\n",
    "X23 = cluster2U3[0]\n",
    "Y23 = cluster2U3[1]\n",
    "X2 = get_X([cluster2])\n",
    "Y2 = get_Y([cluster2])\n",
    "X3 = get_X([cluster3])\n",
    "Y3 = get_Y([cluster3])\n",
    "plot.ylim([0,105])\n",
    "plot.xlim([0,105])\n",
    "plot.scatter(X17623, Y17623, color=\"blue\", marker=\"3\")\n",
    "plot.scatter(X176, Y176, color=\"blue\", marker=\"3\")\n",
    "plot.scatter(X17, Y17, color=\"blue\", marker=\"3\")\n",
    "plot.scatter(X1, Y1, color=\"blue\", marker=\"3\")\n",
    "plot.scatter(X7, Y7, color=\"blue\", marker=\"3\")\n",
    "plot.scatter(X2, Y2, color=\"blue\", marker=\"3\")\n",
    "plot.scatter(X3, Y3, color=\"blue\", marker=\"3\")\n",
    "X45 = cluster4U5[0]\n",
    "Y45 = cluster4U5[1]\n",
    "X458 = cluster4U5U8[0]\n",
    "Y458 = cluster4U5U8[1]\n",
    "X4 = get_X([cluster4])\n",
    "Y4 = get_Y([cluster4])\n",
    "X5 = get_X([cluster5])\n",
    "Y5 = get_Y([cluster5])\n",
    "X8 = get_X([cluster8])\n",
    "Y8 = get_Y([cluster8])\n",
    "plot.ylim([0,105])\n",
    "plot.xlim([0,105])\n",
    "plot.scatter(X458, Y458, color=\"blue\", marker=\"3\")\n",
    "plot.scatter(X45, Y45, color=\"blue\", marker=\"3\")\n",
    "plot.scatter(X4, Y4, color=\"blue\", marker=\"3\")\n",
    "plot.scatter(X5, Y5, color=\"blue\", marker=\"3\")\n",
    "plot.scatter(X8, Y8, color=\"blue\", marker=\"3\")"
   ],
   "metadata": {
    "collapsed": false
   }
  },
  {
   "cell_type": "code",
   "execution_count": null,
   "outputs": [],
   "source": [],
   "metadata": {
    "collapsed": false
   }
  }
 ],
 "metadata": {
  "kernelspec": {
   "display_name": "Python 3",
   "language": "python",
   "name": "python3"
  },
  "language_info": {
   "codemirror_mode": {
    "name": "ipython",
    "version": 2
   },
   "file_extension": ".py",
   "mimetype": "text/x-python",
   "name": "python",
   "nbconvert_exporter": "python",
   "pygments_lexer": "ipython2",
   "version": "2.7.6"
  }
 },
 "nbformat": 4,
 "nbformat_minor": 0
}
